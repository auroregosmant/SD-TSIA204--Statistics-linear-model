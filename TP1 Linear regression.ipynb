{
 "cells": [
  {
   "cell_type": "markdown",
   "metadata": {},
   "source": [
    "# TP1 SDTSIA204 : Linear Regression\n",
    "## Aurore GOSMANT"
   ]
  },
  {
   "cell_type": "code",
   "execution_count": 5,
   "metadata": {},
   "outputs": [],
   "source": [
    "import pandas as pd\n",
    "import numpy as np\n",
    "import matplotlib.pyplot as plt\n",
    "import scipy.stats as stats\n",
    "from sklearn.linear_model import LinearRegression\n",
    "import numpy.linalg as lng\n",
    "from mpl_toolkits import mplot3d"
   ]
  },
  {
   "cell_type": "code",
   "execution_count": 6,
   "metadata": {},
   "outputs": [
    {
     "data": {
      "text/html": [
       "<div>\n",
       "<style scoped>\n",
       "    .dataframe tbody tr th:only-of-type {\n",
       "        vertical-align: middle;\n",
       "    }\n",
       "\n",
       "    .dataframe tbody tr th {\n",
       "        vertical-align: top;\n",
       "    }\n",
       "\n",
       "    .dataframe thead th {\n",
       "        text-align: right;\n",
       "    }\n",
       "</style>\n",
       "<table border=\"1\" class=\"dataframe\">\n",
       "  <thead>\n",
       "    <tr style=\"text-align: right;\">\n",
       "      <th></th>\n",
       "      <th>year</th>\n",
       "      <th>gnp</th>\n",
       "      <th>invest</th>\n",
       "      <th>cpi</th>\n",
       "      <th>interest</th>\n",
       "    </tr>\n",
       "  </thead>\n",
       "  <tbody>\n",
       "    <tr>\n",
       "      <th>0</th>\n",
       "      <td>1968</td>\n",
       "      <td>873.4</td>\n",
       "      <td>133.3</td>\n",
       "      <td>82.54</td>\n",
       "      <td>5.16</td>\n",
       "    </tr>\n",
       "    <tr>\n",
       "      <th>1</th>\n",
       "      <td>1969</td>\n",
       "      <td>944.0</td>\n",
       "      <td>149.3</td>\n",
       "      <td>86.79</td>\n",
       "      <td>5.87</td>\n",
       "    </tr>\n",
       "    <tr>\n",
       "      <th>2</th>\n",
       "      <td>1970</td>\n",
       "      <td>992.7</td>\n",
       "      <td>144.2</td>\n",
       "      <td>91.45</td>\n",
       "      <td>5.95</td>\n",
       "    </tr>\n",
       "    <tr>\n",
       "      <th>3</th>\n",
       "      <td>1971</td>\n",
       "      <td>1077.6</td>\n",
       "      <td>166.4</td>\n",
       "      <td>96.01</td>\n",
       "      <td>4.88</td>\n",
       "    </tr>\n",
       "    <tr>\n",
       "      <th>4</th>\n",
       "      <td>1972</td>\n",
       "      <td>1185.9</td>\n",
       "      <td>195.0</td>\n",
       "      <td>100.00</td>\n",
       "      <td>4.50</td>\n",
       "    </tr>\n",
       "    <tr>\n",
       "      <th>5</th>\n",
       "      <td>1973</td>\n",
       "      <td>1326.4</td>\n",
       "      <td>229.8</td>\n",
       "      <td>105.75</td>\n",
       "      <td>6.44</td>\n",
       "    </tr>\n",
       "    <tr>\n",
       "      <th>6</th>\n",
       "      <td>1974</td>\n",
       "      <td>1434.2</td>\n",
       "      <td>228.7</td>\n",
       "      <td>115.08</td>\n",
       "      <td>7.83</td>\n",
       "    </tr>\n",
       "    <tr>\n",
       "      <th>7</th>\n",
       "      <td>1975</td>\n",
       "      <td>1549.2</td>\n",
       "      <td>206.1</td>\n",
       "      <td>125.79</td>\n",
       "      <td>6.25</td>\n",
       "    </tr>\n",
       "    <tr>\n",
       "      <th>8</th>\n",
       "      <td>1976</td>\n",
       "      <td>1718.0</td>\n",
       "      <td>257.9</td>\n",
       "      <td>132.34</td>\n",
       "      <td>5.50</td>\n",
       "    </tr>\n",
       "    <tr>\n",
       "      <th>9</th>\n",
       "      <td>1977</td>\n",
       "      <td>1918.3</td>\n",
       "      <td>324.1</td>\n",
       "      <td>140.05</td>\n",
       "      <td>5.46</td>\n",
       "    </tr>\n",
       "    <tr>\n",
       "      <th>10</th>\n",
       "      <td>1978</td>\n",
       "      <td>2163.9</td>\n",
       "      <td>386.6</td>\n",
       "      <td>150.42</td>\n",
       "      <td>7.46</td>\n",
       "    </tr>\n",
       "    <tr>\n",
       "      <th>11</th>\n",
       "      <td>1979</td>\n",
       "      <td>2417.8</td>\n",
       "      <td>423.0</td>\n",
       "      <td>163.42</td>\n",
       "      <td>10.28</td>\n",
       "    </tr>\n",
       "    <tr>\n",
       "      <th>12</th>\n",
       "      <td>1980</td>\n",
       "      <td>2633.1</td>\n",
       "      <td>402.3</td>\n",
       "      <td>178.64</td>\n",
       "      <td>11.77</td>\n",
       "    </tr>\n",
       "    <tr>\n",
       "      <th>13</th>\n",
       "      <td>1981</td>\n",
       "      <td>2937.7</td>\n",
       "      <td>471.5</td>\n",
       "      <td>195.51</td>\n",
       "      <td>13.42</td>\n",
       "    </tr>\n",
       "    <tr>\n",
       "      <th>14</th>\n",
       "      <td>1982</td>\n",
       "      <td>3057.5</td>\n",
       "      <td>421.9</td>\n",
       "      <td>207.23</td>\n",
       "      <td>11.02</td>\n",
       "    </tr>\n",
       "  </tbody>\n",
       "</table>\n",
       "</div>"
      ],
      "text/plain": [
       "    year     gnp  invest     cpi  interest\n",
       "0   1968   873.4   133.3   82.54      5.16\n",
       "1   1969   944.0   149.3   86.79      5.87\n",
       "2   1970   992.7   144.2   91.45      5.95\n",
       "3   1971  1077.6   166.4   96.01      4.88\n",
       "4   1972  1185.9   195.0  100.00      4.50\n",
       "5   1973  1326.4   229.8  105.75      6.44\n",
       "6   1974  1434.2   228.7  115.08      7.83\n",
       "7   1975  1549.2   206.1  125.79      6.25\n",
       "8   1976  1718.0   257.9  132.34      5.50\n",
       "9   1977  1918.3   324.1  140.05      5.46\n",
       "10  1978  2163.9   386.6  150.42      7.46\n",
       "11  1979  2417.8   423.0  163.42     10.28\n",
       "12  1980  2633.1   402.3  178.64     11.77\n",
       "13  1981  2937.7   471.5  195.51     13.42\n",
       "14  1982  3057.5   421.9  207.23     11.02"
      ]
     },
     "execution_count": 6,
     "metadata": {},
     "output_type": "execute_result"
    }
   ],
   "source": [
    "invest =pd.read_csv(\"invest.txt\", sep=\" \")\n",
    "invest"
   ]
  },
  {
   "cell_type": "markdown",
   "metadata": {},
   "source": [
    "### Question 2"
   ]
  },
  {
   "cell_type": "code",
   "execution_count": 7,
   "metadata": {},
   "outputs": [
    {
     "data": {
      "text/plain": [
       "[<matplotlib.lines.Line2D at 0x7f2923a984a8>]"
      ]
     },
     "execution_count": 7,
     "metadata": {},
     "output_type": "execute_result"
    },
    {
     "data": {
      "image/png": "[encoded data removed]",
      "text/plain": [
       "<Figure size 432x288 with 1 Axes>"
      ]
     },
     "metadata": {
      "needs_background": "light"
     },
     "output_type": "display_data"
    }
   ],
   "source": [
    "x= np.log(invest['gnp'])\n",
    "##x=invest['gnp']\n",
    "y= np.log(invest['invest'])\n",
    "##plt.xlabel(\"Gross National Product\")\n",
    "##plt.ylabel(\"Investment\")\n",
    "##plt.title(\"invest = f(gnp)\")\n",
    "plt.plot(x,y)"
   ]
  },
  {
   "cell_type": "markdown",
   "metadata": {},
   "source": [
    "### Question 3"
   ]
  },
  {
   "cell_type": "markdown",
   "metadata": {},
   "source": [
    "Start by working out the mean of GNP and Invest. Then, work out estimantor of B1, then Bô to evaluate the slope and the y-intercept"
   ]
  },
  {
   "cell_type": "markdown",
   "metadata": {},
   "source": [
    "### Estimator of y-intercept and slope"
   ]
  },
  {
   "cell_type": "code",
   "execution_count": 8,
   "metadata": {},
   "outputs": [
    {
     "name": "stdout",
     "output_type": "stream",
     "text": [
      "1748.6466666666668\n",
      "276.0066666666666\n",
      "0.15496368358808524\n",
      "5.02993790597327\n"
     ]
    }
   ],
   "source": [
    "meanX = np.mean(invest['gnp'])\n",
    "print(meanX)\n",
    "\n",
    "meanInvest = np.mean(invest['invest'])\n",
    "print(meanInvest)\n",
    "\n",
    "sumNumerator = 0\n",
    "sumDenominator = 0\n",
    "n = len(invest['gnp'])\n",
    "\n",
    "for i in range(n):\n",
    "    diffX = invest['gnp'][i] - meanX\n",
    "    diffY = invest['invest'][i] - meanInvest\n",
    "    \n",
    "    sumNumerator += diffX*diffY\n",
    "    sumDenominator += diffX**2\n",
    "    \n",
    "B1 = sumNumerator/sumDenominator\n",
    "B0 = meanInvest - B1*meanX\n",
    "print(B1)\n",
    "print(B0)\n",
    "    "
   ]
  },
  {
   "cell_type": "code",
   "execution_count": 9,
   "metadata": {},
   "outputs": [
    {
     "data": {
      "image/png": "[encoded data removed]",
      "text/plain": [
       "<Figure size 432x288 with 1 Axes>"
      ]
     },
     "metadata": {
      "needs_background": "light"
     },
     "output_type": "display_data"
    }
   ],
   "source": [
    "logGNP = np.log(invest['gnp'])\n",
    "plt.plot(logGNP, np.log(invest['invest']), color=\"blue\") #Empricial investment\n",
    "plt.plot(logGNP, np.log(B0+B1*invest['gnp']), color=\"red\") #Investment estimator\n",
    "\n",
    "plt.show()"
   ]
  },
  {
   "cell_type": "markdown",
   "metadata": {},
   "source": [
    "### Estimation of standard deviation"
   ]
  },
  {
   "cell_type": "code",
   "execution_count": 10,
   "metadata": {},
   "outputs": [
    {
     "name": "stdout",
     "output_type": "stream",
     "text": [
      "sigma 798.6240698049653\n",
      "variance de Beta0 =  373.37735291466424\n",
      "variance de Beta1 =  0.00010469598906470827\n"
     ]
    }
   ],
   "source": [
    "s = 0\n",
    "for k in range(n):\n",
    "    s+= (invest['invest'][k]-(B0+B1*invest['gnp'][k]))**2\n",
    "sigma_square = s/(n-2)\n",
    "print(\"sigma\", sigma_square)\n",
    "\n",
    "var_B0 =sigma_square*(1/n + meanX**2/sumDenominator)\n",
    "var_B1 = sigma_square/sumDenominator\n",
    "\n",
    "print(\"variance de Beta0 = \",var_B0)\n",
    "print(\"variance de Beta1 = \", var_B1)"
   ]
  },
  {
   "cell_type": "markdown",
   "metadata": {},
   "source": [
    "### Coefficient for the Ordinary Least Squares (OLS)"
   ]
  },
  {
   "cell_type": "code",
   "execution_count": 11,
   "metadata": {},
   "outputs": [
    {
     "name": "stdout",
     "output_type": "stream",
     "text": [
      "R² =  0.9463622043994031\n"
     ]
    }
   ],
   "source": [
    "s1 = 0\n",
    "s2 = 0\n",
    "for k in range(n):\n",
    "    s1 += (B0+B1*invest['gnp'][k]-invest['invest'][k])**2\n",
    "    s2 += (invest['invest'][k]-meanInvest)**2\n",
    "R_square = 1 - s1/s2\n",
    "print(\"R² = \", R_square)"
   ]
  },
  {
   "cell_type": "markdown",
   "metadata": {},
   "source": [
    "### Results"
   ]
  },
  {
   "cell_type": "code",
   "execution_count": 12,
   "metadata": {},
   "outputs": [
    {
     "data": {
      "text/html": [
       "<div>\n",
       "<style scoped>\n",
       "    .dataframe tbody tr th:only-of-type {\n",
       "        vertical-align: middle;\n",
       "    }\n",
       "\n",
       "    .dataframe tbody tr th {\n",
       "        vertical-align: top;\n",
       "    }\n",
       "\n",
       "    .dataframe thead th {\n",
       "        text-align: right;\n",
       "    }\n",
       "</style>\n",
       "<table border=\"1\" class=\"dataframe\">\n",
       "  <thead>\n",
       "    <tr style=\"text-align: right;\">\n",
       "      <th></th>\n",
       "      <th>Beta</th>\n",
       "      <th>Standard Deviation</th>\n",
       "      <th>OLS Coefficient R²</th>\n",
       "    </tr>\n",
       "  </thead>\n",
       "  <tbody>\n",
       "    <tr>\n",
       "      <th>0</th>\n",
       "      <td>5.029938</td>\n",
       "      <td>373.377353</td>\n",
       "      <td>0.946362</td>\n",
       "    </tr>\n",
       "    <tr>\n",
       "      <th>1</th>\n",
       "      <td>0.154964</td>\n",
       "      <td>0.000105</td>\n",
       "      <td>0.946362</td>\n",
       "    </tr>\n",
       "  </tbody>\n",
       "</table>\n",
       "</div>"
      ],
      "text/plain": [
       "       Beta  Standard Deviation  OLS Coefficient R²\n",
       "0  5.029938          373.377353            0.946362\n",
       "1  0.154964            0.000105            0.946362"
      ]
     },
     "execution_count": 12,
     "metadata": {},
     "output_type": "execute_result"
    }
   ],
   "source": [
    "results = {'Beta':[B0, B1], 'Standard Deviation':[var_B0, var_B1], 'OLS Coefficient R²':[R_square, R_square] }\n",
    "data_frame = pd.DataFrame(data = results)\n",
    "data_frame"
   ]
  },
  {
   "cell_type": "markdown",
   "metadata": {},
   "source": [
    "### Question 4 : Student test with $\\alpha = 0.05$"
   ]
  },
  {
   "cell_type": "code",
   "execution_count": 13,
   "metadata": {},
   "outputs": [
    {
     "name": "stdout",
     "output_type": "stream",
     "text": [
      "Interval of acceptance : [-2.1603686564610127, 2.1603686564610127]\n",
      "15.14484766332018\n",
      "The hypothesis H0 at the level 1- 0.05 /2 is rejected\n"
     ]
    }
   ],
   "source": [
    "alpha = 0.05\n",
    "quantile = stats.t.ppf(1-alpha/2, df = n-2)\n",
    "print(\"Interval of acceptance :\",[-quantile, quantile])\n",
    "\n",
    "H0 = B1/(var_B1)**0.5\n",
    "print(H0)\n",
    "\n",
    "if (H0>-quantile and H0< quantile):\n",
    "    print(\"The hypothesis H0 at the level 1-\", alpha,\"/2 isn't rejected : The slope B1 verifies H0\")\n",
    "else : \n",
    "    print(\"The hypothesis H0 at the level 1-\", alpha,\"/2 is rejected\")"
   ]
  },
  {
   "cell_type": "markdown",
   "metadata": {},
   "source": [
    "### P-value"
   ]
  },
  {
   "cell_type": "code",
   "execution_count": 14,
   "metadata": {},
   "outputs": [
    {
     "data": {
      "image/png": "[encoded data removed]",
      "text/plain": [
       "<Figure size 432x288 with 1 Axes>"
      ]
     },
     "metadata": {
      "needs_background": "light"
     },
     "output_type": "display_data"
    }
   ],
   "source": [
    "x = np.linspace(0,0.00000001,100)\n",
    "y = [stats.t.ppf(1-k/2, df = n-2) for k in x]\n",
    "\n",
    "plt.plot(x,y)\n",
    "\n",
    "#plt.xlabel(\"Alpha\")\n",
    "#plt.ylabel(\"quantile\")\n",
    "\n",
    "plt.show()"
   ]
  },
  {
   "cell_type": "code",
   "execution_count": 15,
   "metadata": {},
   "outputs": [
    {
     "name": "stdout",
     "output_type": "stream",
     "text": [
      "6.130546315062383e-10\n"
     ]
    }
   ],
   "source": [
    "p_value = stats.t.sf(H0, df = n-2) # Repartition function\n",
    "print(p_value)"
   ]
  },
  {
   "cell_type": "markdown",
   "metadata": {},
   "source": [
    "### Question 5 : Confidence interval at 90%. "
   ]
  },
  {
   "cell_type": "code",
   "execution_count": 16,
   "metadata": {},
   "outputs": [
    {
     "name": "stdout",
     "output_type": "stream",
     "text": [
      "Confidence Interval at 90% : [145.70980741244554, 174.2774355756715]\n"
     ]
    }
   ],
   "source": [
    "gnp = 1000\n",
    "investment = B0 + B1*gnp\n",
    "\n",
    "quantile90 = stats.t.ppf(0.90, df = n-2)\n",
    "\n",
    "factor = np.sqrt(sigma_square*(1/n+(1000-meanX)**2/sumDenominator))\n",
    "CI_inf = investment-quantile90*factor\n",
    "CI_sup =investment+quantile90*factor\n",
    "print(\"Confidence Interval at 90% :\",[CI_inf, CI_sup])\n"
   ]
  },
  {
   "cell_type": "markdown",
   "metadata": {},
   "source": [
    "### Prediction Interval at 90%"
   ]
  },
  {
   "cell_type": "code",
   "execution_count": 17,
   "metadata": {},
   "outputs": [
    {
     "name": "stdout",
     "output_type": "stream",
     "text": [
      "Prediction Interval at 90% : [119.25188511974255, 200.73535786837448]\n"
     ]
    }
   ],
   "source": [
    "factor1 = np.sqrt(sigma_square*(1+1/n+(1000-meanX)**2/sumDenominator))\n",
    "PI_inf = investment-quantile90*factor1\n",
    "PI_sup =investment+quantile90*factor1\n",
    "print(\"Prediction Interval at 90% :\",[PI_inf, PI_sup])"
   ]
  },
  {
   "cell_type": "code",
   "execution_count": 18,
   "metadata": {},
   "outputs": [
    {
     "name": "stdout",
     "output_type": "stream",
     "text": [
      "Investement is in the Confidence Interval at 90%\n",
      "Investement is in the Prediction Interval at 90%\n"
     ]
    }
   ],
   "source": [
    "if(investment>CI_inf and investment<CI_sup):\n",
    "    print(\"Investement is in the Confidence Interval at 90%\")\n",
    "else : \n",
    "    print(\"Investement is in the Confidence Interval at 90%\")\n",
    "    \n",
    "\n",
    "if(investment>PI_inf and investment<PI_sup):\n",
    "    print(\"Investement is in the Prediction Interval at 90%\")\n",
    "else : \n",
    "    print(\"Investement is in the Prediction Interval at 90%\")"
   ]
  },
  {
   "cell_type": "markdown",
   "metadata": {},
   "source": [
    "### Question 6"
   ]
  },
  {
   "cell_type": "code",
   "execution_count": 19,
   "metadata": {},
   "outputs": [],
   "source": [
    "def Investment(gnp):\n",
    "    return B0 + B1*gnp\n",
    "\n",
    "def CI_inf(x):\n",
    "    investment = Investment(x)\n",
    "    tmp = np.sqrt(sigma_square*(1/n+(x-meanX)**2/sumDenominator))\n",
    "    return(investment-quantile90*tmp)\n",
    "\n",
    "def CI_sup(x):\n",
    "    investment = Investment(x)\n",
    "    tmp = np.sqrt(sigma_square*(1/n+(x-meanX)**2/sumDenominator))\n",
    "    return(investment+quantile90*tmp)\n",
    "\n",
    "def PI_inf(x):\n",
    "    investment = Investment(x)\n",
    "    tmp = np.sqrt(sigma_square*(1+1/n+(x-meanX)**2/sumDenominator))\n",
    "    return(investment-quantile90*tmp)\n",
    "    \n",
    "def PI_sup(x):\n",
    "    investment = Investment(x)##x=invest['gnp']\n",
    "    tmp = np.sqrt(sigma_square*(1+1/n+(x-meanX)**2/sumDenominator))\n",
    "    return(investment+quantile90*tmp)"
   ]
  },
  {
   "cell_type": "code",
   "execution_count": 20,
   "metadata": {},
   "outputs": [
    {
     "data": {
      "image/png": "[encoded data removed]",
      "text/plain": [
       "<Figure size 432x288 with 1 Axes>"
      ]
     },
     "metadata": {
      "needs_background": "light"
     },
     "output_type": "display_data"
    }
   ],
   "source": [
    "logGNP = np.log(invest['gnp'])\n",
    "plt.plot(logGNP, np.log(invest['invest']), color=\"black\") #Empricial investment\n",
    "plt.plot(logGNP, np.log(B0+B1*invest['gnp']), color=\"red\") #Investment estimator\n",
    "\n",
    "plt.plot(logGNP, np.log(CI_inf(invest['gnp'])), color=\"green\")\n",
    "plt.plot(logGNP, np.log(CI_sup(invest['gnp'])), color=\"green\")\n",
    "\n",
    "plt.plot(logGNP, np.log(PI_inf(invest['gnp'])), color=\"blue\")\n",
    "plt.plot(logGNP, np.log(PI_sup(invest['gnp'])), color=\"blue\")\n",
    "         \n",
    "plt.xlabel = (\"Group National Product\")\n",
    "plt.ylabel = (\"Investment\")\n",
    "\n",
    "plt.show()"
   ]
  },
  {
   "cell_type": "markdown",
   "metadata": {},
   "source": [
    "### Question 7"
   ]
  },
  {
   "cell_type": "markdown",
   "metadata": {},
   "source": [
    "### Linear Regression Parameters using Python sklearn model"
   ]
  },
  {
   "cell_type": "code",
   "execution_count": 21,
   "metadata": {},
   "outputs": [
    {
     "name": "stdout",
     "output_type": "stream",
     "text": [
      "(15,) (15, 1)\n"
     ]
    },
    {
     "data": {
      "text/html": [
       "<div>\n",
       "<style scoped>\n",
       "    .dataframe tbody tr th:only-of-type {\n",
       "        vertical-align: middle;\n",
       "    }\n",
       "\n",
       "    .dataframe tbody tr th {\n",
       "        vertical-align: top;\n",
       "    }\n",
       "\n",
       "    .dataframe thead th {\n",
       "        text-align: right;\n",
       "    }\n",
       "</style>\n",
       "<table border=\"1\" class=\"dataframe\">\n",
       "  <thead>\n",
       "    <tr style=\"text-align: right;\">\n",
       "      <th></th>\n",
       "      <th>Parameters Beta Sklearn Linear Regression</th>\n",
       "      <th>Theorical parameters</th>\n",
       "      <th>R²</th>\n",
       "      <th>Theroetical R²</th>\n",
       "    </tr>\n",
       "  </thead>\n",
       "  <tbody>\n",
       "    <tr>\n",
       "      <th>0</th>\n",
       "      <td>5.029938</td>\n",
       "      <td>5.029938</td>\n",
       "      <td>0.946362</td>\n",
       "      <td>0.946362</td>\n",
       "    </tr>\n",
       "    <tr>\n",
       "      <th>1</th>\n",
       "      <td>0.154964</td>\n",
       "      <td>0.154964</td>\n",
       "      <td>0.946362</td>\n",
       "      <td>0.946362</td>\n",
       "    </tr>\n",
       "  </tbody>\n",
       "</table>\n",
       "</div>"
      ],
      "text/plain": [
       "   Parameters Beta Sklearn Linear Regression  Theorical parameters        R²  \\\n",
       "0                                   5.029938              5.029938  0.946362   \n",
       "1                                   0.154964              0.154964  0.946362   \n",
       "\n",
       "   Theroetical R²  \n",
       "0        0.946362  \n",
       "1        0.946362  "
      ]
     },
     "execution_count": 21,
     "metadata": {},
     "output_type": "execute_result"
    }
   ],
   "source": [
    "x = np.asarray(invest['gnp'])\n",
    "x = x.reshape(-1,1)\n",
    "\n",
    "y = np.asarray(invest['invest'])\n",
    "print(np.shape(y), np.shape(x))\n",
    "\n",
    "reg = LinearRegression().fit(x,y)\n",
    "\n",
    "beta_0 = reg.intercept_\n",
    "beta_1 = reg.coef_[0]\n",
    "\n",
    "score = reg.score(x,y)\n",
    "\n",
    "parameters = {'Parameters Beta Sklearn Linear Regression':[beta_0, beta_1], \n",
    "              'Theorical parameters':[B0, B1],\n",
    "              'R²': [score, score],\n",
    "              'Theroetical R²':[R_square, R_square]\n",
    "             }\n",
    "data_frame = pd.DataFrame(data = parameters)\n",
    "data_frame\n"
   ]
  },
  {
   "cell_type": "markdown",
   "metadata": {},
   "source": [
    "### Prediction of the necessary investment"
   ]
  },
  {
   "cell_type": "code",
   "execution_count": 22,
   "metadata": {},
   "outputs": [
    {
     "name": "stdout",
     "output_type": "stream",
     "text": [
      "Necessary Investment for GNP = 1000 : 159.99362149405854\n"
     ]
    }
   ],
   "source": [
    "def Investment_sklearn(gnp):\n",
    "    return ((beta_0 + beta_1*gnp))\n",
    "\n",
    "print(\"Necessary Investment for GNP = 1000 :\", Investment_sklearn(1000))"
   ]
  },
  {
   "cell_type": "markdown",
   "metadata": {},
   "source": [
    "### Question 8"
   ]
  },
  {
   "cell_type": "code",
   "execution_count": 23,
   "metadata": {},
   "outputs": [
    {
     "data": {
      "image/png": "[encoded data removed]",
      "text/plain": [
       "<Figure size 432x288 with 1 Axes>"
      ]
     },
     "metadata": {
      "needs_background": "light"
     },
     "output_type": "display_data"
    }
   ],
   "source": [
    "logGNP = np.log(invest['gnp'])\n",
    "plt.plot(logGNP, np.log(invest['invest']), color=\"black\") #Empricial investment data\n",
    "plt.plot(logGNP, np.log(Investment_sklearn(invest['gnp'])), color=\"red\")#Investment estimator using pyhton sklearn\n",
    "plt.plot(logGNP, np.log(B0+B1*invest['gnp']),'--', color='blue') #Investment estimator\n",
    "\n",
    "plt.show()"
   ]
  },
  {
   "cell_type": "markdown",
   "metadata": {},
   "source": [
    "The two linear regression coincide perfectly. We can deduce that the two manners of modeling our data base by a linear regression are correct."
   ]
  },
  {
   "cell_type": "markdown",
   "metadata": {},
   "source": [
    "##  PART II"
   ]
  },
  {
   "cell_type": "markdown",
   "metadata": {},
   "source": [
    "### Question 9 : Gram Matrix"
   ]
  },
  {
   "cell_type": "code",
   "execution_count": 102,
   "metadata": {},
   "outputs": [
    {
     "name": "stdout",
     "output_type": "stream",
     "text": [
      "The determinant of G is : \n",
      "0.38702748682374194\n"
     ]
    }
   ],
   "source": [
    "n = len(invest['gnp'])\n",
    "\n",
    "X1 =  np.log(invest['gnp'])\n",
    "X2 = invest['interest']\n",
    "Y = np.log(invest['invest'])\n",
    "X=np.array([[1,X1[i],X2[i]] for i in range(n)])\n",
    "\n",
    "Gram_GNP=1/n*X.T @ X\n",
    "\n",
    "\n",
    "##Work out the determinant in order to determine if the matrix is invertibl\n",
    "\n",
    "print(\"The determinant of G is : \")\n",
    "print(np.linalg.det(Gram_GNP))"
   ]
  },
  {
   "cell_type": "markdown",
   "metadata": {},
   "source": [
    "Thus, according to the value of the determinant of the Gram Matrix of the GNP is not null, even though it is nearly null, we can deduce that the matrix is inversible, thus, it's is full rank."
   ]
  },
  {
   "cell_type": "markdown",
   "metadata": {},
   "source": [
    "### Question 10\n",
    "#### For the linear regression of Investement on GNP, the  Gram Matrix in invertible, so : $\\theta\\ = 1/n*$"
   ]
  },
  {
   "cell_type": "code",
   "execution_count": 25,
   "metadata": {},
   "outputs": [
    {
     "name": "stdout",
     "output_type": "stream",
     "text": [
      "[-2.18045473  1.05124269 -0.00652888]\n"
     ]
    }
   ],
   "source": [
    "Y = np.log(invest['invest'])\n",
    "\n",
    "#N = np.linalg.matrix_rank(Gram_Matrix_GNP)\n",
    "\n",
    "#XtX = #n*Gram_Matrix_GNP\n",
    "\n",
    "theta_n = np.linalg.inv(X.T @ X) @ X.T @ Y\n",
    "\n",
    "print(theta_n)"
   ]
  },
  {
   "cell_type": "markdown",
   "metadata": {},
   "source": [
    "### Determination Coefficient for the OLS"
   ]
  },
  {
   "cell_type": "code",
   "execution_count": 26,
   "metadata": {},
   "outputs": [
    {
     "name": "stdout",
     "output_type": "stream",
     "text": [
      "0.9633108306726244\n"
     ]
    }
   ],
   "source": [
    "Y_estimate = theta_n[0] + theta_n[1]*X1 + theta_n[2]*X2\n",
    "\n",
    "meanY = np.mean(Y)\n",
    "\n",
    "sum0 = 0\n",
    "sum1 = 0\n",
    "\n",
    "for i in range(n):\n",
    "    sum0 += (Y_estimate[i] - Y[i])**2\n",
    "    sum1 += (Y[i] - meanY)**2\n",
    "             \n",
    "R2 = 1 - sum0/sum1\n",
    "             \n",
    "print(R2)"
   ]
  },
  {
   "cell_type": "code",
   "execution_count": 27,
   "metadata": {},
   "outputs": [
    {
     "name": "stdout",
     "output_type": "stream",
     "text": [
      "0.008192432955519805\n"
     ]
    }
   ],
   "source": [
    "p = len(theta_n)-1\n",
    "\n",
    "sum = 0\n",
    "for i in range(n):\n",
    "    sum += (Y[i] - Y_estimate[i])**2\n",
    "\n",
    "var = 1/(n-(p+1))*sum\n",
    "\n",
    "print(var)"
   ]
  },
  {
   "cell_type": "markdown",
   "metadata": {},
   "source": [
    "### Determination Coefficients and P-values"
   ]
  },
  {
   "cell_type": "code",
   "execution_count": 28,
   "metadata": {},
   "outputs": [
    {
     "name": "stdout",
     "output_type": "stream",
     "text": [
      "[[ 4.38772697e-01 -6.72457405e-02  7.82053357e-03]\n",
      " [-6.72457405e-02  1.04165249e-02 -1.29683702e-03]\n",
      " [ 7.82053357e-03 -1.29683702e-03  2.35444629e-04]]\n"
     ]
    },
    {
     "data": {
      "text/html": [
       "<div>\n",
       "<style scoped>\n",
       "    .dataframe tbody tr th:only-of-type {\n",
       "        vertical-align: middle;\n",
       "    }\n",
       "\n",
       "    .dataframe tbody tr th {\n",
       "        vertical-align: top;\n",
       "    }\n",
       "\n",
       "    .dataframe thead th {\n",
       "        text-align: right;\n",
       "    }\n",
       "</style>\n",
       "<table border=\"1\" class=\"dataframe\">\n",
       "  <thead>\n",
       "    <tr style=\"text-align: right;\">\n",
       "      <th></th>\n",
       "      <th>Beta</th>\n",
       "      <th>Standard Deviation</th>\n",
       "      <th>P-value</th>\n",
       "    </tr>\n",
       "  </thead>\n",
       "  <tbody>\n",
       "    <tr>\n",
       "      <th>0</th>\n",
       "      <td>-2.180455</td>\n",
       "      <td>0.438773</td>\n",
       "      <td>9.967808e-01</td>\n",
       "    </tr>\n",
       "    <tr>\n",
       "      <th>1</th>\n",
       "      <td>1.051243</td>\n",
       "      <td>0.010417</td>\n",
       "      <td>1.299758e-07</td>\n",
       "    </tr>\n",
       "    <tr>\n",
       "      <th>2</th>\n",
       "      <td>-0.006529</td>\n",
       "      <td>0.000235</td>\n",
       "      <td>6.609964e-01</td>\n",
       "    </tr>\n",
       "  </tbody>\n",
       "</table>\n",
       "</div>"
      ],
      "text/plain": [
       "       Beta  Standard Deviation       P-value\n",
       "0 -2.180455            0.438773  9.967808e-01\n",
       "1  1.051243            0.010417  1.299758e-07\n",
       "2 -0.006529            0.000235  6.609964e-01"
      ]
     },
     "execution_count": 28,
     "metadata": {},
     "output_type": "execute_result"
    }
   ],
   "source": [
    "C = var * np.linalg.inv(X.T @ X)\n",
    "print(C)\n",
    "\n",
    "p_value0 = stats.t.sf(theta_n[0]/(C[0][0]**0.5), df = n-3)\n",
    "p_value1 = stats.t.sf(theta_n[1]/(C[1][1]**0.5), df = n-3)\n",
    "p_value2 = stats.t.sf(theta_n[2]/(C[2][2]**0.5), df = n-3)\n",
    "\n",
    "\n",
    "results = {\n",
    "    'Beta':[theta_n[0], theta_n[1], theta_n[2]], \n",
    "    'Standard Deviation':[C[0][0], C[1][1], C[2][2]], \n",
    "    'P-value':[p_value0, p_value1, p_value2] \n",
    "}\n",
    "\n",
    "data_frame = pd.DataFrame(data = results)\n",
    "data_frame"
   ]
  },
  {
   "cell_type": "markdown",
   "metadata": {},
   "source": [
    "#### P-values"
   ]
  },
  {
   "cell_type": "markdown",
   "metadata": {},
   "source": [
    "The p-value for beta1 is too small, thus the nul hypothesis, ie beta1 = 0, is rejected. Thus, the investment is dependant on the GNP and the interest."
   ]
  },
  {
   "cell_type": "markdown",
   "metadata": {},
   "source": [
    "### Question 11\n",
    "\n",
    "### Confidence Interval"
   ]
  },
  {
   "cell_type": "code",
   "execution_count": 29,
   "metadata": {},
   "outputs": [
    {
     "name": "stdout",
     "output_type": "stream",
     "text": [
      "The estimator of the Investment for the given values is :  5.015983730482089\n",
      "Confidence Interval at 99,9% : [4.673967435442851, 5.358000025521328]\n"
     ]
    }
   ],
   "source": [
    "GNP = np.log(1000)\n",
    "Interest = 10\n",
    "\n",
    "investment_estimator = theta_n[0] + theta_n[1]*GNP + theta_n[2]*Interest\n",
    "print(\"The estimator of the Investment for the given values is : \", investment_estimator)\n",
    "\n",
    "quantile99 = stats.t.ppf(0.999, df = n-3)\n",
    "\n",
    "x = np.array([1, np.log(1000), 10])\n",
    "\n",
    "CI_inf_est = investment_estimator - quantile99*(x.T @ C @ x)**0.5\n",
    "CI_sup_est =investment_estimator + quantile99*(x.T @ C @ x)**0.5\n",
    "\n",
    "print(\"Confidence Interval at 99,9% :\",[CI_inf_est, CI_sup_est])"
   ]
  },
  {
   "cell_type": "markdown",
   "metadata": {},
   "source": [
    "Therefore, the investment estimator belongs to the confidence interval at 99,9%."
   ]
  },
  {
   "cell_type": "markdown",
   "metadata": {},
   "source": [
    "### Prediction Interval"
   ]
  },
  {
   "cell_type": "code",
   "execution_count": 30,
   "metadata": {},
   "outputs": [
    {
     "name": "stdout",
     "output_type": "stream",
     "text": [
      "Prediction Interval at 99,9% : [4.522543926744156, 5.185523280583476]\n"
     ]
    }
   ],
   "source": [
    "PI_inf_est = investment_estimator - quantile99*(var + x.T @ C @ x)**0.5\n",
    "PI_sup_est =investment_estimator + quantile90*(var + x.T @ C @ x)**0.5\n",
    "\n",
    "print(\"Prediction Interval at 99,9% :\",[PI_inf_est, PI_sup_est])"
   ]
  },
  {
   "cell_type": "markdown",
   "metadata": {},
   "source": [
    "### Question 12 :  3D-plot"
   ]
  },
  {
   "cell_type": "code",
   "execution_count": 101,
   "metadata": {},
   "outputs": [
    {
     "data": {
      "image/png": "[encoded data removed]",
      "text/plain": [
       "<Figure size 432x288 with 1 Axes>"
      ]
     },
     "metadata": {
      "needs_background": "light"
     },
     "output_type": "display_data"
    }
   ],
   "source": [
    "ax = plt.axes(projection='3d')\n",
    "\n",
    "ax.scatter(X1, X2, Y)\n",
    "ax.set_xlabel('GNP');\n",
    "ax.set_ylabel('Interest');\n",
    "ax.set_zlabel('Investment');\n",
    "\n",
    "\n",
    "X1_3D = np.linspace(X1.min(),X1.max(),1000)\n",
    "X2_3D = np.linspace(X2.min(),X2.max(),1000)\n",
    "ax_X1,ax_X2 = np.meshgrid(X1_3D,X2_3D)\n",
    "\n",
    "ax_Y = theta_n[0] + theta_n[1]*ax_X1 + theta_n[2]*ax_X2\n",
    "\n",
    "listCinf = []\n",
    "listCsup = []\n",
    "listPinf = []\n",
    "listPsup = []\n",
    "for i in range(1000):\n",
    "    listCinf.append([])\n",
    "    listCsup.append([])\n",
    "    listPinf.append([])\n",
    "    listPsup.append([])\n",
    "    \n",
    "    for j in range(1000):\n",
    "        x = np.array([1, ax_X1[i,j], ax_X2[i,j]])\n",
    "      \n",
    "        tmp = quantile99*(x.T @ C @ x)**0.5\n",
    "        tmp1 = quantile99*(var + x.T @ C @ x)**0.5\n",
    "\n",
    "        investment_estimator = theta_n[0] + theta_n[1]*ax_X1[i,j] + theta_n[2]*ax_X2[i, j]\n",
    "        listCinf[i].append(investment_estimator - tmp)\n",
    "        listCsup[i].append(investment_estimator + tmp)\n",
    "        listPinf[i].append(investment_estimator - tmp1)\n",
    "        listPsup[i].append(investment_estimator + tmp1)\n",
    "        \n",
    "        \n",
    "plane = ax.plot_surface(ax_X1, ax_X2, ax_Y, alpha = 0.5, color=\"red\")\n",
    "\n",
    "ax.plot_surface(ax_X1, ax_X2, np.array(listCinf),alpha = 0.5, color = \"blue\")\n",
    "ax.plot_surface(ax_X1, ax_X2, np.array(listCsup),alpha = 0.5, color = \"blue\")\n",
    "\n",
    "ax.plot_surface(ax_X1, ax_X2, np.array(listPinf),alpha = 0.5, color = \"green\")\n",
    "ax.plot_surface(ax_X1, ax_X2, np.array(listPsup),alpha = 0.5, color = \"green\")\n",
    "\n",
    "\n",
    "\n",
    "plt.show()\n"
   ]
  },
  {
   "cell_type": "markdown",
   "metadata": {},
   "source": [
    "### Question 13"
   ]
  },
  {
   "cell_type": "code",
   "execution_count": 116,
   "metadata": {},
   "outputs": [
    {
     "data": {
      "text/html": [
       "<div>\n",
       "<style scoped>\n",
       "    .dataframe tbody tr th:only-of-type {\n",
       "        vertical-align: middle;\n",
       "    }\n",
       "\n",
       "    .dataframe tbody tr th {\n",
       "        vertical-align: top;\n",
       "    }\n",
       "\n",
       "    .dataframe thead th {\n",
       "        text-align: right;\n",
       "    }\n",
       "</style>\n",
       "<table border=\"1\" class=\"dataframe\">\n",
       "  <thead>\n",
       "    <tr style=\"text-align: right;\">\n",
       "      <th></th>\n",
       "      <th>Slopes</th>\n",
       "      <th>Intercept</th>\n",
       "      <th>Determination Coefficient</th>\n",
       "      <th>Investment estimator for GNP = 1000 and interest = 10</th>\n",
       "    </tr>\n",
       "  </thead>\n",
       "  <tbody>\n",
       "    <tr>\n",
       "      <th>0</th>\n",
       "      <td>1.051243</td>\n",
       "      <td>-2.180455</td>\n",
       "      <td>0.963311</td>\n",
       "      <td>150.804415</td>\n",
       "    </tr>\n",
       "    <tr>\n",
       "      <th>1</th>\n",
       "      <td>-0.006529</td>\n",
       "      <td>-2.180455</td>\n",
       "      <td>0.963311</td>\n",
       "      <td>150.804415</td>\n",
       "    </tr>\n",
       "  </tbody>\n",
       "</table>\n",
       "</div>"
      ],
      "text/plain": [
       "     Slopes  Intercept  Determination Coefficient  \\\n",
       "0  1.051243  -2.180455                   0.963311   \n",
       "1 -0.006529  -2.180455                   0.963311   \n",
       "\n",
       "   Investment estimator for GNP = 1000 and interest = 10  \n",
       "0                                         150.804415      \n",
       "1                                         150.804415      "
      ]
     },
     "execution_count": 116,
     "metadata": {},
     "output_type": "execute_result"
    }
   ],
   "source": [
    "X = np.array([[X1[i], X2[i]] for i in range(len(X1))])\n",
    "linearReg = LinearRegression().fit(X,Y)\n",
    "\n",
    "\n",
    "\n",
    "res = {\n",
    "    'Slopes':linearReg.coef_, \n",
    "    'Intercept':linearReg.intercept_, \n",
    "    'Determination Coefficient':linearReg.score(X,Y), \n",
    "    'Investment estimator for GNP = 1000 and interest = 10': np.exp(linearReg.predict([[np.log(1000), 10]]))[0]\n",
    "}\n",
    "\n",
    "data_frame = pd.DataFrame(data = res)\n",
    "data_frame\n"
   ]
  },
  {
   "cell_type": "code",
   "execution_count": null,
   "metadata": {},
   "outputs": [],
   "source": []
  }
 ],
 "metadata": {
  "kernelspec": {
   "display_name": "Python 3",
   "language": "python",
   "name": "python3"
  },
  "language_info": {
   "codemirror_mode": {
    "name": "ipython",
    "version": 3
   },
   "file_extension": ".py",
   "mimetype": "text/x-python",
   "name": "python",
   "nbconvert_exporter": "python",
   "pygments_lexer": "ipython3",
   "version": "3.7.3"
  }
 },
 "nbformat": 4,
 "nbformat_minor": 2
}
