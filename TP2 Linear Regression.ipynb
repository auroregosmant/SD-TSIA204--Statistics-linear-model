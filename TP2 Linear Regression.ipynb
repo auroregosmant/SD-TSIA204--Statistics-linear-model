{
 "cells": [
  {
   "cell_type": "markdown",
   "metadata": {},
   "source": [
    "# TP2 SDTSIA204 : Linear Regression\n",
    "## Aurore GOSMANT"
   ]
  },
  {
   "cell_type": "code",
   "execution_count": 1,
   "metadata": {},
   "outputs": [],
   "source": [
    "import pandas as pd\n",
    "import numpy as np\n",
    "import matplotlib.pyplot as plt\n",
    "import random\n",
    "from sklearn.model_selection import train_test_split\n",
    "from sklearn.linear_model import LinearRegression, Ridge, LassoCV\n",
    "from scipy.stats import norm"
   ]
  },
  {
   "cell_type": "code",
   "execution_count": 2,
   "metadata": {},
   "outputs": [
    {
     "data": {
      "text/html": [
       "<div>\n",
       "<style scoped>\n",
       "    .dataframe tbody tr th:only-of-type {\n",
       "        vertical-align: middle;\n",
       "    }\n",
       "\n",
       "    .dataframe tbody tr th {\n",
       "        vertical-align: top;\n",
       "    }\n",
       "\n",
       "    .dataframe thead th {\n",
       "        text-align: right;\n",
       "    }\n",
       "</style>\n",
       "<table border=\"1\" class=\"dataframe\">\n",
       "  <thead>\n",
       "    <tr style=\"text-align: right;\">\n",
       "      <th></th>\n",
       "      <th>0</th>\n",
       "      <th>1</th>\n",
       "      <th>2</th>\n",
       "      <th>3</th>\n",
       "      <th>4</th>\n",
       "      <th>5</th>\n",
       "      <th>6</th>\n",
       "      <th>7</th>\n",
       "      <th>8</th>\n",
       "      <th>9</th>\n",
       "      <th>...</th>\n",
       "      <th>201</th>\n",
       "      <th>202</th>\n",
       "      <th>203</th>\n",
       "      <th>204</th>\n",
       "      <th>205</th>\n",
       "      <th>206</th>\n",
       "      <th>207</th>\n",
       "      <th>208</th>\n",
       "      <th>209</th>\n",
       "      <th>210</th>\n",
       "    </tr>\n",
       "  </thead>\n",
       "  <tbody>\n",
       "    <tr>\n",
       "      <td>0</td>\n",
       "      <td>-1.298173</td>\n",
       "      <td>-0.162249</td>\n",
       "      <td>1.223379</td>\n",
       "      <td>1.355554</td>\n",
       "      <td>1.080171</td>\n",
       "      <td>0.634979</td>\n",
       "      <td>0.298741</td>\n",
       "      <td>0.548270</td>\n",
       "      <td>0.731773</td>\n",
       "      <td>1.018645</td>\n",
       "      <td>...</td>\n",
       "      <td>0.588278</td>\n",
       "      <td>0.210106</td>\n",
       "      <td>1.861458</td>\n",
       "      <td>-0.436399</td>\n",
       "      <td>0.279299</td>\n",
       "      <td>-1.416020</td>\n",
       "      <td>-2.332363</td>\n",
       "      <td>0.215096</td>\n",
       "      <td>-0.693319</td>\n",
       "      <td>151.0</td>\n",
       "    </tr>\n",
       "    <tr>\n",
       "      <td>1</td>\n",
       "      <td>0.166951</td>\n",
       "      <td>-0.338060</td>\n",
       "      <td>-0.618867</td>\n",
       "      <td>0.759366</td>\n",
       "      <td>1.134281</td>\n",
       "      <td>-0.536844</td>\n",
       "      <td>-0.075120</td>\n",
       "      <td>0.970251</td>\n",
       "      <td>-0.327487</td>\n",
       "      <td>0.717310</td>\n",
       "      <td>...</td>\n",
       "      <td>-0.251054</td>\n",
       "      <td>-0.825716</td>\n",
       "      <td>0.339139</td>\n",
       "      <td>1.119430</td>\n",
       "      <td>0.225958</td>\n",
       "      <td>-0.822288</td>\n",
       "      <td>0.382838</td>\n",
       "      <td>-0.718829</td>\n",
       "      <td>-0.188993</td>\n",
       "      <td>75.0</td>\n",
       "    </tr>\n",
       "    <tr>\n",
       "      <td>2</td>\n",
       "      <td>-0.416177</td>\n",
       "      <td>-0.205659</td>\n",
       "      <td>-1.282226</td>\n",
       "      <td>1.675500</td>\n",
       "      <td>1.523746</td>\n",
       "      <td>0.192029</td>\n",
       "      <td>-0.235840</td>\n",
       "      <td>-1.954626</td>\n",
       "      <td>-0.853309</td>\n",
       "      <td>0.892791</td>\n",
       "      <td>...</td>\n",
       "      <td>1.283837</td>\n",
       "      <td>0.372516</td>\n",
       "      <td>-0.652557</td>\n",
       "      <td>-2.579347</td>\n",
       "      <td>0.139267</td>\n",
       "      <td>-1.901196</td>\n",
       "      <td>0.048210</td>\n",
       "      <td>0.220205</td>\n",
       "      <td>0.471588</td>\n",
       "      <td>141.0</td>\n",
       "    </tr>\n",
       "    <tr>\n",
       "      <td>3</td>\n",
       "      <td>0.867184</td>\n",
       "      <td>-0.398667</td>\n",
       "      <td>0.093501</td>\n",
       "      <td>0.025971</td>\n",
       "      <td>1.852099</td>\n",
       "      <td>0.789774</td>\n",
       "      <td>0.801775</td>\n",
       "      <td>0.376711</td>\n",
       "      <td>0.853689</td>\n",
       "      <td>0.247953</td>\n",
       "      <td>...</td>\n",
       "      <td>0.446582</td>\n",
       "      <td>0.334733</td>\n",
       "      <td>0.399074</td>\n",
       "      <td>-0.884172</td>\n",
       "      <td>0.723819</td>\n",
       "      <td>1.316367</td>\n",
       "      <td>0.088218</td>\n",
       "      <td>0.619496</td>\n",
       "      <td>1.061662</td>\n",
       "      <td>206.0</td>\n",
       "    </tr>\n",
       "    <tr>\n",
       "      <td>4</td>\n",
       "      <td>1.193282</td>\n",
       "      <td>-0.936980</td>\n",
       "      <td>-0.725039</td>\n",
       "      <td>0.766078</td>\n",
       "      <td>0.223489</td>\n",
       "      <td>-1.584622</td>\n",
       "      <td>1.146866</td>\n",
       "      <td>0.086136</td>\n",
       "      <td>-0.088780</td>\n",
       "      <td>-0.945066</td>\n",
       "      <td>...</td>\n",
       "      <td>0.786157</td>\n",
       "      <td>-1.058179</td>\n",
       "      <td>-0.155788</td>\n",
       "      <td>-0.642504</td>\n",
       "      <td>2.040010</td>\n",
       "      <td>-1.703110</td>\n",
       "      <td>-1.901502</td>\n",
       "      <td>1.778811</td>\n",
       "      <td>-0.489853</td>\n",
       "      <td>135.0</td>\n",
       "    </tr>\n",
       "    <tr>\n",
       "      <td>...</td>\n",
       "      <td>...</td>\n",
       "      <td>...</td>\n",
       "      <td>...</td>\n",
       "      <td>...</td>\n",
       "      <td>...</td>\n",
       "      <td>...</td>\n",
       "      <td>...</td>\n",
       "      <td>...</td>\n",
       "      <td>...</td>\n",
       "      <td>...</td>\n",
       "      <td>...</td>\n",
       "      <td>...</td>\n",
       "      <td>...</td>\n",
       "      <td>...</td>\n",
       "      <td>...</td>\n",
       "      <td>...</td>\n",
       "      <td>...</td>\n",
       "      <td>...</td>\n",
       "      <td>...</td>\n",
       "      <td>...</td>\n",
       "      <td>...</td>\n",
       "    </tr>\n",
       "    <tr>\n",
       "      <td>437</td>\n",
       "      <td>-0.270323</td>\n",
       "      <td>-0.437638</td>\n",
       "      <td>0.347423</td>\n",
       "      <td>-0.123436</td>\n",
       "      <td>0.344168</td>\n",
       "      <td>-0.777434</td>\n",
       "      <td>-1.380455</td>\n",
       "      <td>0.491346</td>\n",
       "      <td>0.713854</td>\n",
       "      <td>-0.693186</td>\n",
       "      <td>...</td>\n",
       "      <td>-0.051364</td>\n",
       "      <td>-0.371945</td>\n",
       "      <td>-0.114830</td>\n",
       "      <td>0.153832</td>\n",
       "      <td>-0.973347</td>\n",
       "      <td>-0.997793</td>\n",
       "      <td>0.158006</td>\n",
       "      <td>-0.139519</td>\n",
       "      <td>1.010518</td>\n",
       "      <td>178.0</td>\n",
       "    </tr>\n",
       "    <tr>\n",
       "      <td>438</td>\n",
       "      <td>0.872196</td>\n",
       "      <td>0.975497</td>\n",
       "      <td>0.819331</td>\n",
       "      <td>-0.975557</td>\n",
       "      <td>-0.968388</td>\n",
       "      <td>1.029983</td>\n",
       "      <td>-0.079420</td>\n",
       "      <td>-0.130714</td>\n",
       "      <td>0.201144</td>\n",
       "      <td>-2.390860</td>\n",
       "      <td>...</td>\n",
       "      <td>-0.327924</td>\n",
       "      <td>0.350886</td>\n",
       "      <td>-0.305686</td>\n",
       "      <td>-1.292688</td>\n",
       "      <td>0.124676</td>\n",
       "      <td>1.465920</td>\n",
       "      <td>0.663206</td>\n",
       "      <td>1.278693</td>\n",
       "      <td>0.419890</td>\n",
       "      <td>104.0</td>\n",
       "    </tr>\n",
       "    <tr>\n",
       "      <td>439</td>\n",
       "      <td>-0.032586</td>\n",
       "      <td>-0.571893</td>\n",
       "      <td>0.806842</td>\n",
       "      <td>0.562865</td>\n",
       "      <td>1.194239</td>\n",
       "      <td>-0.345469</td>\n",
       "      <td>0.717316</td>\n",
       "      <td>0.234458</td>\n",
       "      <td>1.546961</td>\n",
       "      <td>0.554013</td>\n",
       "      <td>...</td>\n",
       "      <td>-1.467585</td>\n",
       "      <td>0.584516</td>\n",
       "      <td>-0.281854</td>\n",
       "      <td>-0.618165</td>\n",
       "      <td>0.840381</td>\n",
       "      <td>1.261452</td>\n",
       "      <td>-0.084541</td>\n",
       "      <td>0.301755</td>\n",
       "      <td>0.517624</td>\n",
       "      <td>132.0</td>\n",
       "    </tr>\n",
       "    <tr>\n",
       "      <td>440</td>\n",
       "      <td>-1.529754</td>\n",
       "      <td>0.756967</td>\n",
       "      <td>2.251588</td>\n",
       "      <td>-0.052600</td>\n",
       "      <td>0.502047</td>\n",
       "      <td>0.046229</td>\n",
       "      <td>-1.571494</td>\n",
       "      <td>0.238793</td>\n",
       "      <td>-1.211869</td>\n",
       "      <td>-0.896148</td>\n",
       "      <td>...</td>\n",
       "      <td>-0.000023</td>\n",
       "      <td>-2.231379</td>\n",
       "      <td>-0.880398</td>\n",
       "      <td>0.267481</td>\n",
       "      <td>1.036171</td>\n",
       "      <td>-0.962587</td>\n",
       "      <td>0.491072</td>\n",
       "      <td>-1.389069</td>\n",
       "      <td>0.473725</td>\n",
       "      <td>220.0</td>\n",
       "    </tr>\n",
       "    <tr>\n",
       "      <td>441</td>\n",
       "      <td>0.942724</td>\n",
       "      <td>1.389141</td>\n",
       "      <td>-0.028890</td>\n",
       "      <td>-0.803132</td>\n",
       "      <td>0.780272</td>\n",
       "      <td>-2.076596</td>\n",
       "      <td>0.384999</td>\n",
       "      <td>-1.278517</td>\n",
       "      <td>0.544748</td>\n",
       "      <td>-1.933845</td>\n",
       "      <td>...</td>\n",
       "      <td>-0.672230</td>\n",
       "      <td>0.424373</td>\n",
       "      <td>-1.475910</td>\n",
       "      <td>0.198051</td>\n",
       "      <td>-1.129065</td>\n",
       "      <td>1.542559</td>\n",
       "      <td>0.616853</td>\n",
       "      <td>-0.047552</td>\n",
       "      <td>0.897446</td>\n",
       "      <td>57.0</td>\n",
       "    </tr>\n",
       "  </tbody>\n",
       "</table>\n",
       "<p>442 rows × 211 columns</p>\n",
       "</div>"
      ],
      "text/plain": [
       "          0         1         2         3         4         5         6    \\\n",
       "0   -1.298173 -0.162249  1.223379  1.355554  1.080171  0.634979  0.298741   \n",
       "1    0.166951 -0.338060 -0.618867  0.759366  1.134281 -0.536844 -0.075120   \n",
       "2   -0.416177 -0.205659 -1.282226  1.675500  1.523746  0.192029 -0.235840   \n",
       "3    0.867184 -0.398667  0.093501  0.025971  1.852099  0.789774  0.801775   \n",
       "4    1.193282 -0.936980 -0.725039  0.766078  0.223489 -1.584622  1.146866   \n",
       "..        ...       ...       ...       ...       ...       ...       ...   \n",
       "437 -0.270323 -0.437638  0.347423 -0.123436  0.344168 -0.777434 -1.380455   \n",
       "438  0.872196  0.975497  0.819331 -0.975557 -0.968388  1.029983 -0.079420   \n",
       "439 -0.032586 -0.571893  0.806842  0.562865  1.194239 -0.345469  0.717316   \n",
       "440 -1.529754  0.756967  2.251588 -0.052600  0.502047  0.046229 -1.571494   \n",
       "441  0.942724  1.389141 -0.028890 -0.803132  0.780272 -2.076596  0.384999   \n",
       "\n",
       "          7         8         9    ...       201       202       203  \\\n",
       "0    0.548270  0.731773  1.018645  ...  0.588278  0.210106  1.861458   \n",
       "1    0.970251 -0.327487  0.717310  ... -0.251054 -0.825716  0.339139   \n",
       "2   -1.954626 -0.853309  0.892791  ...  1.283837  0.372516 -0.652557   \n",
       "3    0.376711  0.853689  0.247953  ...  0.446582  0.334733  0.399074   \n",
       "4    0.086136 -0.088780 -0.945066  ...  0.786157 -1.058179 -0.155788   \n",
       "..        ...       ...       ...  ...       ...       ...       ...   \n",
       "437  0.491346  0.713854 -0.693186  ... -0.051364 -0.371945 -0.114830   \n",
       "438 -0.130714  0.201144 -2.390860  ... -0.327924  0.350886 -0.305686   \n",
       "439  0.234458  1.546961  0.554013  ... -1.467585  0.584516 -0.281854   \n",
       "440  0.238793 -1.211869 -0.896148  ... -0.000023 -2.231379 -0.880398   \n",
       "441 -1.278517  0.544748 -1.933845  ... -0.672230  0.424373 -1.475910   \n",
       "\n",
       "          204       205       206       207       208       209    210  \n",
       "0   -0.436399  0.279299 -1.416020 -2.332363  0.215096 -0.693319  151.0  \n",
       "1    1.119430  0.225958 -0.822288  0.382838 -0.718829 -0.188993   75.0  \n",
       "2   -2.579347  0.139267 -1.901196  0.048210  0.220205  0.471588  141.0  \n",
       "3   -0.884172  0.723819  1.316367  0.088218  0.619496  1.061662  206.0  \n",
       "4   -0.642504  2.040010 -1.703110 -1.901502  1.778811 -0.489853  135.0  \n",
       "..        ...       ...       ...       ...       ...       ...    ...  \n",
       "437  0.153832 -0.973347 -0.997793  0.158006 -0.139519  1.010518  178.0  \n",
       "438 -1.292688  0.124676  1.465920  0.663206  1.278693  0.419890  104.0  \n",
       "439 -0.618165  0.840381  1.261452 -0.084541  0.301755  0.517624  132.0  \n",
       "440  0.267481  1.036171 -0.962587  0.491072 -1.389069  0.473725  220.0  \n",
       "441  0.198051 -1.129065  1.542559  0.616853 -0.047552  0.897446   57.0  \n",
       "\n",
       "[442 rows x 211 columns]"
      ]
     },
     "execution_count": 2,
     "metadata": {},
     "output_type": "execute_result"
    }
   ],
   "source": [
    "data =pd.read_csv(\"datadm3.csv\", header = None)\n",
    "data"
   ]
  },
  {
   "cell_type": "markdown",
   "metadata": {},
   "source": [
    "There are 210 explanatory variables since the last column is the output Y. Moreover, since there are 442 rows, we deduce that there are 442 observations."
   ]
  },
  {
   "cell_type": "markdown",
   "metadata": {},
   "source": [
    "### Question 2\n",
    "\n",
    "### Normalized and centered explanatory variables"
   ]
  },
  {
   "cell_type": "code",
   "execution_count": 3,
   "metadata": {},
   "outputs": [
    {
     "data": {
      "text/html": [
       "<div>\n",
       "<style scoped>\n",
       "    .dataframe tbody tr th:only-of-type {\n",
       "        vertical-align: middle;\n",
       "    }\n",
       "\n",
       "    .dataframe tbody tr th {\n",
       "        vertical-align: top;\n",
       "    }\n",
       "\n",
       "    .dataframe thead th {\n",
       "        text-align: right;\n",
       "    }\n",
       "</style>\n",
       "<table border=\"1\" class=\"dataframe\">\n",
       "  <thead>\n",
       "    <tr style=\"text-align: right;\">\n",
       "      <th></th>\n",
       "      <th>Mean of Xk</th>\n",
       "      <th>Variance of Xk</th>\n",
       "    </tr>\n",
       "  </thead>\n",
       "  <tbody>\n",
       "    <tr>\n",
       "      <td>0</td>\n",
       "      <td>7.535450e-19</td>\n",
       "      <td>1.002268</td>\n",
       "    </tr>\n",
       "    <tr>\n",
       "      <td>1</td>\n",
       "      <td>-1.507090e-17</td>\n",
       "      <td>1.002268</td>\n",
       "    </tr>\n",
       "    <tr>\n",
       "      <td>2</td>\n",
       "      <td>5.494599e-20</td>\n",
       "      <td>1.002268</td>\n",
       "    </tr>\n",
       "    <tr>\n",
       "      <td>3</td>\n",
       "      <td>-7.284269e-18</td>\n",
       "      <td>1.002268</td>\n",
       "    </tr>\n",
       "    <tr>\n",
       "      <td>4</td>\n",
       "      <td>8.288995e-18</td>\n",
       "      <td>1.002268</td>\n",
       "    </tr>\n",
       "    <tr>\n",
       "      <td>...</td>\n",
       "      <td>...</td>\n",
       "      <td>...</td>\n",
       "    </tr>\n",
       "    <tr>\n",
       "      <td>205</td>\n",
       "      <td>5.525997e-18</td>\n",
       "      <td>1.002268</td>\n",
       "    </tr>\n",
       "    <tr>\n",
       "      <td>206</td>\n",
       "      <td>3.265362e-17</td>\n",
       "      <td>1.002268</td>\n",
       "    </tr>\n",
       "    <tr>\n",
       "      <td>207</td>\n",
       "      <td>1.507090e-17</td>\n",
       "      <td>1.002268</td>\n",
       "    </tr>\n",
       "    <tr>\n",
       "      <td>208</td>\n",
       "      <td>-4.034606e-18</td>\n",
       "      <td>1.002268</td>\n",
       "    </tr>\n",
       "    <tr>\n",
       "      <td>209</td>\n",
       "      <td>1.205672e-17</td>\n",
       "      <td>1.002268</td>\n",
       "    </tr>\n",
       "  </tbody>\n",
       "</table>\n",
       "<p>210 rows × 2 columns</p>\n",
       "</div>"
      ],
      "text/plain": [
       "       Mean of Xk  Variance of Xk\n",
       "0    7.535450e-19        1.002268\n",
       "1   -1.507090e-17        1.002268\n",
       "2    5.494599e-20        1.002268\n",
       "3   -7.284269e-18        1.002268\n",
       "4    8.288995e-18        1.002268\n",
       "..            ...             ...\n",
       "205  5.525997e-18        1.002268\n",
       "206  3.265362e-17        1.002268\n",
       "207  1.507090e-17        1.002268\n",
       "208 -4.034606e-18        1.002268\n",
       "209  1.205672e-17        1.002268\n",
       "\n",
       "[210 rows x 2 columns]"
      ]
     },
     "execution_count": 3,
     "metadata": {},
     "output_type": "execute_result"
    }
   ],
   "source": [
    "n = 442  \n",
    "p = 211 \n",
    "\n",
    "#create a new table with only the exploratory variables\n",
    "exp_variables = data[data.columns[0:(p-1)]]\n",
    "\n",
    "means = []\n",
    "vars = []\n",
    "\n",
    "for k in exp_variables : \n",
    "    means.append(exp_variables[k].mean())\n",
    "    vars.append(exp_variables[k].var())\n",
    "\n",
    "    \n",
    "results = {'Mean of Xk':[k for k in means], 'Variance of Xk':[var for var in vars]}\n",
    "data_frame = pd.DataFrame(data = results)\n",
    "data_frame\n"
   ]
  },
  {
   "cell_type": "markdown",
   "metadata": {},
   "source": [
    "Since the mean of the explanatory variables is almost null, and their standard deviation is equal to 1, we can come to the conclusion that the explanatory variables are either centered and normalized.\n",
    "\n",
    "### Output variable Y"
   ]
  },
  {
   "cell_type": "code",
   "execution_count": 64,
   "metadata": {},
   "outputs": [
    {
     "data": {
      "text/html": [
       "<div>\n",
       "<style scoped>\n",
       "    .dataframe tbody tr th:only-of-type {\n",
       "        vertical-align: middle;\n",
       "    }\n",
       "\n",
       "    .dataframe tbody tr th {\n",
       "        vertical-align: top;\n",
       "    }\n",
       "\n",
       "    .dataframe thead th {\n",
       "        text-align: right;\n",
       "    }\n",
       "</style>\n",
       "<table border=\"1\" class=\"dataframe\">\n",
       "  <thead>\n",
       "    <tr style=\"text-align: right;\">\n",
       "      <th></th>\n",
       "      <th>Mean of Y</th>\n",
       "      <th>Variance of Y</th>\n",
       "    </tr>\n",
       "  </thead>\n",
       "  <tbody>\n",
       "    <tr>\n",
       "      <td>0</td>\n",
       "      <td>152.133484</td>\n",
       "      <td>5943.331348</td>\n",
       "    </tr>\n",
       "  </tbody>\n",
       "</table>\n",
       "</div>"
      ],
      "text/plain": [
       "    Mean of Y  Variance of Y\n",
       "0  152.133484    5943.331348"
      ]
     },
     "execution_count": 64,
     "metadata": {},
     "output_type": "execute_result"
    }
   ],
   "source": [
    "meanY = data[data.columns[-1]].mean()\n",
    "varY = data[data.columns[-1]].var()\n",
    "\n",
    "res = {'Mean of Y':[meanY], 'Variance of Y':[varY]}\n",
    "data_frame = pd.DataFrame(data = res)\n",
    "data_frame"
   ]
  },
  {
   "cell_type": "markdown",
   "metadata": {},
   "source": [
    "According to the following results, the output variable is not centered nor normalized.\n",
    "\n",
    "### Plot of four random explanatory variables and the output variable"
   ]
  },
  {
   "cell_type": "code",
   "execution_count": 65,
   "metadata": {},
   "outputs": [
    {
     "data": {
      "image/png": "[encoded data removed]",
      "text/plain": [
       "<Figure size 432x288 with 1 Axes>"
      ]
     },
     "metadata": {
      "needs_background": "light"
     },
     "output_type": "display_data"
    },
    {
     "data": {
      "image/png": "[encoded data removed]",
      "text/plain": [
       "<Figure size 432x288 with 1 Axes>"
      ]
     },
     "metadata": {
      "needs_background": "light"
     },
     "output_type": "display_data"
    },
    {
     "data": {
      "image/png": "[encoded data removed]",
      "text/plain": [
       "<Figure size 432x288 with 1 Axes>"
      ]
     },
     "metadata": {
      "needs_background": "light"
     },
     "output_type": "display_data"
    },
    {
     "data": {
      "image/png": "[encoded data removed]",
      "text/plain": [
       "<Figure size 432x288 with 1 Axes>"
      ]
     },
     "metadata": {
      "needs_background": "light"
     },
     "output_type": "display_data"
    },
    {
     "data": {
      "image/png": "[encoded data removed]",
      "text/plain": [
       "<Figure size 432x288 with 1 Axes>"
      ]
     },
     "metadata": {
      "needs_background": "light"
     },
     "output_type": "display_data"
    }
   ],
   "source": [
    "#Choose 4 exploratory variables at random\n",
    "rand = []\n",
    "for k in range(4):\n",
    "    rand.append(random.randint(0, p-1))\n",
    "    \n",
    "x_axes = np.linspace(0,442, 442)\n",
    "\n",
    "for k in range(4):\n",
    "    #choose the explanatory variables at random\n",
    "    X = data[data.columns[rand[k]]]\n",
    "    plt.scatter(x_axes, X)\n",
    "    plt.title(\"Plot of the exploratory variables\")\n",
    "    plt.show()\n",
    "\n",
    "plt.scatter(x_axes,data[data.columns[210]], color = 'red')\n",
    "plt.title(\"Plot of the output variable\")\n",
    "plt.show()\n"
   ]
  },
  {
   "cell_type": "markdown",
   "metadata": {},
   "source": [
    "We clearly see that the explanatory variables are centered around 0, contrary to the output variable, whose mean varies a lot."
   ]
  },
  {
   "cell_type": "markdown",
   "metadata": {},
   "source": [
    "### Question 3 : Train and test"
   ]
  },
  {
   "cell_type": "code",
   "execution_count": 66,
   "metadata": {},
   "outputs": [
    {
     "name": "stdout",
     "output_type": "stream",
     "text": [
      "The size of X_train is:  (353, 210)\n",
      "The size of X_test is:  (89, 210)\n"
     ]
    }
   ],
   "source": [
    "#select only the last column of the data set\n",
    "outputY = data[data.columns[-1]]\n",
    "\n",
    "X_train, X_test, y_train, y_test = train_test_split(exp_variables, outputY, test_size=0.2)\n",
    "\n",
    "print(\"The size of X_train is: \", X_train.shape)\n",
    "print(\"The size of X_test is: \", X_test.shape)"
   ]
  },
  {
   "cell_type": "markdown",
   "metadata": {},
   "source": [
    "### Question 4 : Covariance matrix"
   ]
  },
  {
   "cell_type": "code",
   "execution_count": 67,
   "metadata": {},
   "outputs": [
    {
     "data": {
      "text/html": [
       "<div>\n",
       "<style scoped>\n",
       "    .dataframe tbody tr th:only-of-type {\n",
       "        vertical-align: middle;\n",
       "    }\n",
       "\n",
       "    .dataframe tbody tr th {\n",
       "        vertical-align: top;\n",
       "    }\n",
       "\n",
       "    .dataframe thead th {\n",
       "        text-align: right;\n",
       "    }\n",
       "</style>\n",
       "<table border=\"1\" class=\"dataframe\">\n",
       "  <thead>\n",
       "    <tr style=\"text-align: right;\">\n",
       "      <th></th>\n",
       "      <th>Eigen values</th>\n",
       "    </tr>\n",
       "  </thead>\n",
       "  <tbody>\n",
       "    <tr>\n",
       "      <td>0</td>\n",
       "      <td>5.746375e+00</td>\n",
       "    </tr>\n",
       "    <tr>\n",
       "      <td>1</td>\n",
       "      <td>5.312958e+00</td>\n",
       "    </tr>\n",
       "    <tr>\n",
       "      <td>2</td>\n",
       "      <td>5.144251e+00</td>\n",
       "    </tr>\n",
       "    <tr>\n",
       "      <td>3</td>\n",
       "      <td>5.052856e+00</td>\n",
       "    </tr>\n",
       "    <tr>\n",
       "      <td>4</td>\n",
       "      <td>5.025892e+00</td>\n",
       "    </tr>\n",
       "    <tr>\n",
       "      <td>...</td>\n",
       "      <td>...</td>\n",
       "    </tr>\n",
       "    <tr>\n",
       "      <td>205</td>\n",
       "      <td>1.235766e-16</td>\n",
       "    </tr>\n",
       "    <tr>\n",
       "      <td>206</td>\n",
       "      <td>1.183315e-16</td>\n",
       "    </tr>\n",
       "    <tr>\n",
       "      <td>207</td>\n",
       "      <td>8.562321e-17</td>\n",
       "    </tr>\n",
       "    <tr>\n",
       "      <td>208</td>\n",
       "      <td>4.113360e-17</td>\n",
       "    </tr>\n",
       "    <tr>\n",
       "      <td>209</td>\n",
       "      <td>1.242659e-17</td>\n",
       "    </tr>\n",
       "  </tbody>\n",
       "</table>\n",
       "<p>210 rows × 1 columns</p>\n",
       "</div>"
      ],
      "text/plain": [
       "     Eigen values\n",
       "0    5.746375e+00\n",
       "1    5.312958e+00\n",
       "2    5.144251e+00\n",
       "3    5.052856e+00\n",
       "4    5.025892e+00\n",
       "..            ...\n",
       "205  1.235766e-16\n",
       "206  1.183315e-16\n",
       "207  8.562321e-17\n",
       "208  4.113360e-17\n",
       "209  1.242659e-17\n",
       "\n",
       "[210 rows x 1 columns]"
      ]
     },
     "execution_count": 67,
     "metadata": {},
     "output_type": "execute_result"
    }
   ],
   "source": [
    "cov_array = np.cov(X_train.T)\n",
    "\n",
    "eig_vectors, eig_val_sorted, v = np.linalg.svd(cov_array)\n",
    "\n",
    "res1 = {'Eigen values':[val for val in eig_val_sorted]}\n",
    "data_frame = pd.DataFrame(data = res1)\n",
    "data_frame"
   ]
  },
  {
   "cell_type": "code",
   "execution_count": 68,
   "metadata": {},
   "outputs": [
    {
     "data": {
      "image/png": "[encoded data removed]",
      "text/plain": [
       "<Figure size 432x288 with 1 Axes>"
      ]
     },
     "metadata": {
      "needs_background": "light"
     },
     "output_type": "display_data"
    },
    {
     "name": "stdout",
     "output_type": "stream",
     "text": [
      "There are only 59 eigen values that are greater than 0.01.\n"
     ]
    }
   ],
   "source": [
    "x_axes = np.linspace(0, 210, 210)\n",
    "plt.title(\"Plot of the covariance eigen values in descending order\")\n",
    "plt.plot(x_axes, eig_val_sorted)\n",
    "plt.show()\n",
    "\n",
    "count = 0\n",
    "for eig_value in eig_val_sorted : \n",
    "    if (eig_value > 0.01):\n",
    "        count +=1\n",
    "        \n",
    "print(\"There are only\",count,\n",
    "      \"eigen values that are greater than 0.01.\")\n",
    "        "
   ]
  },
  {
   "cell_type": "markdown",
   "metadata": {},
   "source": [
    "### PCA variables\n",
    "\n",
    "It makes sens to keep only first PCA variables because after about the 60th value, the PCA variables are nearly null, thus, not usefull for our study."
   ]
  },
  {
   "cell_type": "markdown",
   "metadata": {},
   "source": [
    "### Question 5 : PCA before OLS"
   ]
  },
  {
   "cell_type": "code",
   "execution_count": 69,
   "metadata": {},
   "outputs": [],
   "source": [
    "k = 60\n",
    "#select only the first 60 greatest eigen values\n",
    "U = eig_vectors[:,:k]\n",
    "\n",
    "X_train_pca = X_train @ U\n",
    "#adding an intercept\n",
    "X_intercept = np.hstack((X_train_pca, np.ones(353).reshape(-1,1)))\n",
    "\n",
    "theta_n = np.linalg.inv(X_intercept.T @ X_intercept) @ X_intercept.T @ y_train"
   ]
  },
  {
   "cell_type": "code",
   "execution_count": 70,
   "metadata": {},
   "outputs": [
    {
     "data": {
      "image/png": "[encoded data removed]",
      "text/plain": [
       "<Figure size 432x288 with 1 Axes>"
      ]
     },
     "metadata": {
      "needs_background": "light"
     },
     "output_type": "display_data"
    }
   ],
   "source": [
    "#Run linear regression on the set computed with PCA before OLS\n",
    "OLS_PCA = LinearRegression().fit(X_train_pca, y_train)\n",
    "\n",
    "plt.plot(OLS_PCA.coef_, 'o')\n",
    "plt.title('Values of the coefficients of Linera Regression using PCA before OLS method')\n",
    "\n",
    "plt.show()"
   ]
  },
  {
   "cell_type": "code",
   "execution_count": 71,
   "metadata": {},
   "outputs": [
    {
     "data": {
      "image/png": "[encoded data removed]",
      "text/plain": [
       "<Figure size 432x288 with 1 Axes>"
      ]
     },
     "metadata": {
      "needs_background": "light"
     },
     "output_type": "display_data"
    }
   ],
   "source": [
    "#compute the classical linear regression on the train set\n",
    "OLS = LinearRegression().fit(X_train, y_train)\n",
    "\n",
    "plt.plot(OLS.coef_, 'o')\n",
    "plt.title('Values of the coefficients of the Linear Regression using the classical OLS method')\n",
    "\n",
    "plt.show()"
   ]
  },
  {
   "cell_type": "markdown",
   "metadata": {},
   "source": [
    "### Question 6 \n",
    "\n",
    "### Intercept values for two regression methods "
   ]
  },
  {
   "cell_type": "code",
   "execution_count": 72,
   "metadata": {},
   "outputs": [
    {
     "name": "stdout",
     "output_type": "stream",
     "text": [
      "Intercept of Linear Regression using PCA before OLS :  151.36159528987577\n",
      "\n",
      "Intercept of Linear Regression classical OLS :  152.00770184135976\n"
     ]
    }
   ],
   "source": [
    "intercept_PCA = OLS_PCA.intercept_\n",
    "print(\"Intercept of Linear Regression using PCA before OLS : \", intercept_PCA)\n",
    "print()\n",
    "intercept = OLS.intercept_\n",
    "print(\"Intercept of Linear Regression classical OLS : \",intercept)"
   ]
  },
  {
   "cell_type": "markdown",
   "metadata": {},
   "source": [
    "### Mean value of the output variable"
   ]
  },
  {
   "cell_type": "code",
   "execution_count": 73,
   "metadata": {},
   "outputs": [
    {
     "name": "stdout",
     "output_type": "stream",
     "text": [
      "Mean Value of Y :  151.28895184135976\n"
     ]
    }
   ],
   "source": [
    "print(\"Mean Value of Y : \",np.mean(y_train))"
   ]
  },
  {
   "cell_type": "markdown",
   "metadata": {},
   "source": [
    "The intercepts are different. Both of them aren't equal to the mean. Thus, we can conclude that both of the training sets aren't normalized, nor centered."
   ]
  },
  {
   "cell_type": "markdown",
   "metadata": {},
   "source": [
    "### Normalization of values"
   ]
  },
  {
   "cell_type": "code",
   "execution_count": 74,
   "metadata": {},
   "outputs": [
    {
     "name": "stdout",
     "output_type": "stream",
     "text": [
      "Mean Value of Y :  151.28895184135976\n",
      "\n",
      "The value of the Normalized Linear Regression intercept :  151.28895184135976\n"
     ]
    }
   ],
   "source": [
    "normalized_x_train_pca = (X_train_pca - np.mean(X_train_pca))/(np.std(X_train_pca))\n",
    "\n",
    "normalized_reg  = LinearRegression().fit(normalized_x_train_pca, y_train)\n",
    "\n",
    "print(\"Mean Value of Y : \",np.mean(y_train))\n",
    "print()\n",
    "print(\"The value of the Normalized Linear Regression intercept : \",normalized_reg.intercept_)"
   ]
  },
  {
   "cell_type": "markdown",
   "metadata": {},
   "source": [
    "As expected, the mean value of output Y is equal to the intercept of the normalized train set of explanatory variables."
   ]
  },
  {
   "cell_type": "markdown",
   "metadata": {},
   "source": [
    "### Question 7 : Plotting the predictions\n",
    "\n",
    "According to the lesson, the prediction risk is : \n",
    "\n",
    "$ R_{pred} (\\hat{\\theta_{n}}, \\theta*) = \\frac{\\mathbb{E}[\\left\\|Y* - \\hat{Y}\\right\\|^{2}]}{n} $ \n",
    "  \n",
    "\n",
    "### Plot with PCA before OLS"
   ]
  },
  {
   "cell_type": "code",
   "execution_count": 75,
   "metadata": {},
   "outputs": [
    {
     "name": "stdout",
     "output_type": "stream",
     "text": [
      "The determination coefficient with PCA before OLS is :  0.35031575470898346\n",
      "The prediction risk with PCA before OLS is :  3762.520200110417\n"
     ]
    },
    {
     "data": {
      "image/png": "[encoded data removed]",
      "text/plain": [
       "<Figure size 432x288 with 1 Axes>"
      ]
     },
     "metadata": {
      "needs_background": "light"
     },
     "output_type": "display_data"
    }
   ],
   "source": [
    "pred_PCA = OLS_PCA.predict(X_test@U)\n",
    "residuals_PCA = np.abs(pred_PCA - y_test)\n",
    "\n",
    "n = len(y_test)\n",
    "x_axes = np.linspace(0, n, n)\n",
    "\n",
    "R2_PCA = OLS_PCA.score(X_test@U, y_test)\n",
    "print(\"The determination coefficient with PCA before OLS is : \", R2_PCA)\n",
    "\n",
    "pred_risk_PCA = (residuals_PCA @ residuals_PCA.T)/n\n",
    "print(\"The prediction risk with PCA before OLS is : \", pred_risk_PCA)\n",
    "\n",
    "plt.plot(x_axes, residuals_PCA)\n",
    "plt.title(\"Residuals of PCA before OLS method\")\n",
    "plt.show()"
   ]
  },
  {
   "cell_type": "markdown",
   "metadata": {},
   "source": [
    "### Plot with classical OLS"
   ]
  },
  {
   "cell_type": "code",
   "execution_count": 76,
   "metadata": {},
   "outputs": [
    {
     "name": "stdout",
     "output_type": "stream",
     "text": [
      "The determination coefficient with classical OLS is :  0.30145742345471194\n",
      "\n",
      "The prediction risk with classical OLS is :  4045.4737419583325\n"
     ]
    },
    {
     "data": {
      "image/png": "[encoded data removed]",
      "text/plain": [
       "<Figure size 432x288 with 1 Axes>"
      ]
     },
     "metadata": {
      "needs_background": "light"
     },
     "output_type": "display_data"
    }
   ],
   "source": [
    "pred_OLS = OLS.predict(X_test)\n",
    "residuals_OLS = np.abs(pred_OLS - y_test)\n",
    "\n",
    "R2_OLS = OLS.score(X_test, y_test)\n",
    "print(\"The determination coefficient with classical OLS is : \", R2_OLS)\n",
    "print()\n",
    "pred_risk_OLS = (residuals_OLS @ residuals_OLS.T)/n\n",
    "print(\"The prediction risk with classical OLS is : \", pred_risk_OLS)\n",
    "\n",
    "plt.plot(x_axes, residuals_OLS)\n",
    "plt.title(\"Residuals of classical OLS method\")\n",
    "plt.show()"
   ]
  },
  {
   "cell_type": "markdown",
   "metadata": {},
   "source": [
    "### Density"
   ]
  },
  {
   "cell_type": "code",
   "execution_count": 77,
   "metadata": {},
   "outputs": [
    {
     "data": {
      "image/png": "[encoded data removed]",
      "text/plain": [
       "<Figure size 432x288 with 1 Axes>"
      ]
     },
     "metadata": {
      "needs_background": "light"
     },
     "output_type": "display_data"
    }
   ],
   "source": [
    "plt.hist(residuals_PCA, density=True)\n",
    "plt.title(\"Density of residuals with PCA before OLS\")\n",
    "plt.show()"
   ]
  },
  {
   "cell_type": "code",
   "execution_count": 78,
   "metadata": {},
   "outputs": [
    {
     "data": {
      "image/png": "[encoded data removed]",
      "text/plain": [
       "<Figure size 432x288 with 1 Axes>"
      ]
     },
     "metadata": {
      "needs_background": "light"
     },
     "output_type": "display_data"
    }
   ],
   "source": [
    "plt.hist(residuals_OLS, density=True)\n",
    "plt.title(\"Density of residuals with classical OLS\")\n",
    "plt.show()"
   ]
  },
  {
   "cell_type": "markdown",
   "metadata": {},
   "source": [
    "Using PCA before OLS has improved the results :  the determinant coefficient $R^{2}$ is closer to 1 with the PCA before OLS method, and its risk is reduced, which means the linear regression is better determined when the PCA before OLS method is applied."
   ]
  },
  {
   "cell_type": "markdown",
   "metadata": {},
   "source": [
    "### Question 8 : Forward Variable Selection"
   ]
  },
  {
   "cell_type": "code",
   "execution_count": 79,
   "metadata": {},
   "outputs": [],
   "source": [
    "n = X_train.shape[0]\n",
    "p = X_train.shape[1]\n",
    "\n",
    "#add a column for the intercept\n",
    "ones = np.ones((n,1))\n",
    "X_train_ones = np.column_stack((ones, X_train))\n",
    "\n",
    "r = y_train\n",
    "S = [] #variables added\n",
    "A = [k for k in range(p)] #variables to add\n",
    "\n",
    "#list of indices mirroring the addition order of the variables\n",
    "order_addition = []\n",
    "\n",
    "#initialization of p-values and tests : each line represents a step, and column a p-value/test of a exploratoy variable\n",
    "T_n = np.zeros((p,p))\n",
    "p_values = np.zeros((p,p))\n",
    "\n",
    "# no intercept is used for this regression : the data set is centered\n",
    "reg = LinearRegression(fit_intercept = False)\n",
    "\n",
    "for k in range(p): #compute the algorithm p times : no use of the stop criterion, thus goes through each exploratory variable\n",
    "    residuals = np.zeros((n,p))\n",
    "    for var in A:\n",
    "        reg.fit(X_train_ones[:,[var]],r) #Linear regression of Yi \n",
    "        \n",
    "        # Evaluates the residuals between Y and Yi, le linear regression of Y\n",
    "        residuals[:,var] = r - reg.predict(X_train_ones[:,[var]])\n",
    "        \n",
    "        # Works out sigma2\n",
    "        sigma_x_snk_2 = np.sum(residuals[:,var]**2)/(n-1)*n/np.sum(X_train_ones[:,var]**2)\n",
    "        \n",
    "        # Compute the test and the p-value (cf. course) associated to each variable at step k\n",
    "        T_n[k, var] = (n**0.5) * np.abs(reg.coef_)/np.sqrt(sigma_x_snk_2)\n",
    "        p_values[k, var] = 2*(1-norm.cdf(T_n[k,var]))\n",
    "    \n",
    "    best_var = np.argmax(T_n[k,:]) # selects the variable with the \"greatest importance\"\n",
    "    A.remove(best_var) # reduces the set of variables that can be selected\n",
    "    order_addition.append(best_var)\n",
    "    r = residuals[:,best_var] "
   ]
  },
  {
   "cell_type": "code",
   "execution_count": 80,
   "metadata": {},
   "outputs": [
    {
     "name": "stdout",
     "output_type": "stream",
     "text": [
      "Exploratory variables were selected in this order : \n",
      "[0, 59, 124, 14, 168, 134, 130, 6, 32, 136, 35, 184, 86, 170, 100, 20, 36, 49, 76, 99, 46, 44, 175, 29, 173, 167, 60, 118, 11, 61, 73, 48, 34, 189, 137, 97, 198, 209, 24, 190, 78, 149, 77, 53, 135, 178, 129, 176, 89, 82, 80, 163, 155, 28, 150, 119, 112, 3, 92, 107, 88, 114, 132, 171, 30, 188, 13, 158, 33, 113, 37, 157, 38, 172, 202, 127, 201, 70, 108, 56, 65, 208, 87, 85, 18, 206, 204, 81, 26, 91, 203, 164, 23, 159, 145, 179, 185, 54, 42, 43, 69, 5, 103, 106, 9, 47, 177, 193, 160, 128, 182, 183, 186, 162, 180, 133, 191, 110, 1, 148, 154, 181, 10, 125, 93, 68, 50, 156, 147, 161, 16, 8, 187, 79, 142, 90, 7, 4, 126, 75, 196, 140, 195, 115, 40, 31, 151, 169, 58, 121, 122, 25, 12, 98, 120, 63, 123, 84, 143, 72, 22, 153, 62, 96, 139, 41, 192, 197, 67, 74, 27, 104, 138, 57, 94, 102, 116, 166, 146, 199, 55, 152, 194, 2, 15, 205, 131, 105, 101, 66, 71, 83, 51, 165, 141, 117, 19, 111, 174, 17, 39, 64, 45, 95, 21, 144, 200, 52, 207, 109]\n"
     ]
    }
   ],
   "source": [
    "print(\"Exploratory variables were selected in this order : \")\n",
    "print(order_addition)"
   ]
  },
  {
   "cell_type": "markdown",
   "metadata": {},
   "source": [
    "### Question 9 : Stop Criterion "
   ]
  },
  {
   "cell_type": "code",
   "execution_count": 81,
   "metadata": {},
   "outputs": [],
   "source": [
    "alpha = 0.1\n",
    "\n",
    "r = y_train\n",
    "S = [] #variables added\n",
    "A = [k for k in range(p)] #variables to add\n",
    "\n",
    "#list of indices mirroring the addition order of the variables\n",
    "order_addition = []\n",
    "\n",
    "#initialization of p-values and tests : each line represents a step, and column a p-value/test of a exploratoy variable\n",
    "T_n = np.zeros((p,p))\n",
    "p_values = np.zeros((p,p))\n",
    "\n",
    "# The intercept is already a 'variable'\n",
    "reg = LinearRegression(fit_intercept = False)\n",
    "\n",
    "for k in range(p): #compute the algorithm p times : no use of the stop criterion, thus goes through each exploratory variable\n",
    "    residuals = np.zeros((n,p))\n",
    "    for var in A:\n",
    "        reg.fit(X_train_ones[:,[var]],r) #Linear regression of Yi \n",
    "        \n",
    "        # Evaluates the residuals between Y and Yi, le linear regression of Y\n",
    "        residuals[:,var] = r - reg.predict(X_train_ones[:,[var]])\n",
    "        \n",
    "        # Works out sigma2\n",
    "        sigma_x_snk_2 = np.sum(residuals[:,var]**2)/(n-1)*n/np.sum(X_train_ones[:,var]**2)\n",
    "        \n",
    "         # Compute the test and the p-value (cf. course) associated to each variable at step k\n",
    "        T_n[k, var] = (n**0.5) * np.abs(reg.coef_)/np.sqrt(sigma_x_snk_2)\n",
    "        p_values[k, var] = 2*(1-norm.cdf(T_n[k,var]))\n",
    "        \n",
    "    \n",
    "    min_p_value = np.min(p_values[k,:])\n",
    "    if (min_p_value>=0.1):\n",
    "        break;\n",
    "    else : \n",
    "        best_var = np.argmax(T_n[k,:]) # selects the variable with the \"most importance\"\n",
    "        A.remove(best_var) # reduces the set of variables that can be selected\n",
    "        order_addition.append(best_var)\n",
    "        r = residuals[:,best_var] "
   ]
  },
  {
   "cell_type": "code",
   "execution_count": 82,
   "metadata": {},
   "outputs": [
    {
     "name": "stdout",
     "output_type": "stream",
     "text": [
      "Exploratory variables were selected in this order : \n",
      "[0, 59, 124, 14, 168, 134, 130, 6, 32, 136, 35, 184, 86, 170, 100, 20, 36, 49, 76, 99, 46, 44, 175, 29, 173, 167, 60, 118, 11, 61, 73, 48, 34, 189, 137, 97, 198, 209, 24, 190, 78, 149, 77, 53, 135, 178, 129, 176, 89, 82, 80, 163, 155, 28, 150, 119, 112, 3, 92, 107, 88, 114, 132, 171, 30, 188, 13, 158, 33, 113, 37, 157, 38, 172, 202, 127, 201, 70, 108, 56, 65, 208, 87, 85, 18, 206, 204, 81, 26, 91, 203, 164, 23, 159, 145, 179, 185, 54, 42, 43, 69, 5, 103, 106, 9, 47, 177, 193, 160, 128, 182, 183, 186, 162, 180, 133, 191, 110, 1, 148, 154, 181, 10, 125, 93, 68, 50, 156, 147, 161, 16, 8, 187, 79, 142, 90, 7, 4, 126, 75, 196, 140, 195, 115, 40, 31, 151, 169, 58, 121, 122, 25, 12, 98, 120, 63, 123, 84, 143, 72, 22, 153, 62, 96, 139, 41, 192, 197, 67, 74, 27, 104, 138, 57, 94, 102, 116, 166, 146, 199, 55, 152, 194, 2, 15, 205, 131, 105, 101, 66, 71, 83, 51, 165, 141, 117, 19, 111, 174, 17, 39, 64, 45, 95, 21, 144, 200, 52, 207, 109]\n"
     ]
    }
   ],
   "source": [
    "print(\"Exploratory variables were selected in this order : \")\n",
    "print(order_addition)"
   ]
  },
  {
   "cell_type": "markdown",
   "metadata": {},
   "source": [
    "### Plot for the first 3 tests"
   ]
  },
  {
   "cell_type": "code",
   "execution_count": 83,
   "metadata": {},
   "outputs": [
    {
     "data": {
      "image/png": "[encoded data removed]",
      "text/plain": [
       "<Figure size 432x288 with 1 Axes>"
      ]
     },
     "metadata": {
      "needs_background": "light"
     },
     "output_type": "display_data"
    }
   ],
   "source": [
    "x_axes = np.arange(p)\n",
    "\n",
    "for j in range(3):\n",
    "    test_ = T_n[j, :]\n",
    "    plt.plot(x_axes, test_, label = \"step\")\n",
    "    \n",
    "plt.xlabel(\"Indices of variables\")\n",
    "plt.ylabel(\"Value of test statistics\")\n",
    "plt.title(\"Value of the test statistics at step 1, 2 and 3\")\n",
    "plt.show()\n"
   ]
  },
  {
   "cell_type": "markdown",
   "metadata": {},
   "source": [
    "### Graph of the first 50 p-values"
   ]
  },
  {
   "cell_type": "code",
   "execution_count": 84,
   "metadata": {},
   "outputs": [
    {
     "data": {
      "image/png": "[encoded data removed]",
      "text/plain": [
       "<Figure size 432x288 with 1 Axes>"
      ]
     },
     "metadata": {
      "needs_background": "light"
     },
     "output_type": "display_data"
    }
   ],
   "source": [
    "p_values_selection = [] #stocks the p-values in the same order than the variables were added through the algorithm \n",
    "step = 0\n",
    "\n",
    "#selects the first 50 p-values\n",
    "for var in order_addition : \n",
    "    p_values_selection.append(p_values[step, var])\n",
    "    step = step+1;\n",
    "    if (step==50):\n",
    "        break;\n",
    "\n",
    "x_axes = np.arange(50)\n",
    "plt.scatter(x_axes, p_values_selection)\n",
    "plt.plot(x_axes, [0.1 for k in x_axes], color = \"red\")\n",
    "plt.xlabel(\"Step i of the algorithm\")\n",
    "plt.ylabel(\"P-value associated to the variabe\")\n",
    "plt.title(\"Graph of the 50 first p-values\")\n",
    "plt.show()"
   ]
  },
  {
   "cell_type": "markdown",
   "metadata": {},
   "source": [
    "### Stop Criterion when the p-value is larger than $\\alpha = 0.1 $"
   ]
  },
  {
   "cell_type": "code",
   "execution_count": 85,
   "metadata": {},
   "outputs": [
    {
     "name": "stdout",
     "output_type": "stream",
     "text": [
      "The variable selection is :  [0, 59, 124, 168, 134, 35, 175, 24, 80, 95, 21]\n",
      "The variable selection withouh the intercept is :  [59, 124, 168, 134, 35, 175, 24, 80, 95, 21]\n"
     ]
    }
   ],
   "source": [
    "variables_selected = []\n",
    "step = 0\n",
    "\n",
    "for var in order_addition :\n",
    "    if (p_values[step, var]<0.1):\n",
    "        variables_selected.append(var)\n",
    "        \n",
    "print(\"The variable selection is : \",variables_selected)\n",
    "\n",
    "#We remove the intercept, that corresponds to the variable with index 0, as needed in the next question\n",
    "variables_selected.remove(0)\n",
    "print(\"The variable selection withouh the intercept is : \", variables_selected)"
   ]
  },
  {
   "cell_type": "markdown",
   "metadata": {},
   "source": [
    "### Question 10\n",
    "\n",
    "### Determination coefficient R²"
   ]
  },
  {
   "cell_type": "code",
   "execution_count": 86,
   "metadata": {},
   "outputs": [
    {
     "name": "stdout",
     "output_type": "stream",
     "text": [
      "The determination coefficient R² is :  0.016858432491068776\n"
     ]
    }
   ],
   "source": [
    "p = len(variables_selected)\n",
    "\n",
    "#we create the new table containing only the variable selection\n",
    "X_selection = X_train[variables_selected]\n",
    "\n",
    "OLS_selection = LinearRegression().fit(X_selection, y_train)\n",
    "R2_selection = OLS_selection.score(X_test[variables_selected], y_test)\n",
    "print(\"The determination coefficient R² is : \", R2_selection)"
   ]
  },
  {
   "cell_type": "markdown",
   "metadata": {},
   "source": [
    "### Prediction Risk"
   ]
  },
  {
   "cell_type": "code",
   "execution_count": 87,
   "metadata": {},
   "outputs": [
    {
     "name": "stdout",
     "output_type": "stream",
     "text": [
      "The prediction risk is :  5693.673556242109\n"
     ]
    }
   ],
   "source": [
    "y_prediction_selection = OLS_selection.predict(X_test[variables_selected])\n",
    "\n",
    "Residuals_selection = np.abs(y_prediction_selection - y_test)\n",
    "pred_risk_selection = Residuals_selection.T @ Residuals_selection / len(y_test)\n",
    "\n",
    "print(\"The prediction risk is : \", pred_risk_selection)"
   ]
  },
  {
   "cell_type": "code",
   "execution_count": 88,
   "metadata": {},
   "outputs": [
    {
     "data": {
      "text/html": [
       "<div>\n",
       "<style scoped>\n",
       "    .dataframe tbody tr th:only-of-type {\n",
       "        vertical-align: middle;\n",
       "    }\n",
       "\n",
       "    .dataframe tbody tr th {\n",
       "        vertical-align: top;\n",
       "    }\n",
       "\n",
       "    .dataframe thead th {\n",
       "        text-align: right;\n",
       "    }\n",
       "</style>\n",
       "<table border=\"1\" class=\"dataframe\">\n",
       "  <thead>\n",
       "    <tr style=\"text-align: right;\">\n",
       "      <th></th>\n",
       "      <th>classical OLS</th>\n",
       "      <th>PCA before OLS</th>\n",
       "      <th>OLS forward selection</th>\n",
       "    </tr>\n",
       "  </thead>\n",
       "  <tbody>\n",
       "    <tr>\n",
       "      <td>0</td>\n",
       "      <td>0.301457</td>\n",
       "      <td>0.350316</td>\n",
       "      <td>0.016858</td>\n",
       "    </tr>\n",
       "    <tr>\n",
       "      <td>1</td>\n",
       "      <td>4045.473742</td>\n",
       "      <td>3762.520200</td>\n",
       "      <td>5693.673556</td>\n",
       "    </tr>\n",
       "  </tbody>\n",
       "</table>\n",
       "</div>"
      ],
      "text/plain": [
       "   classical OLS  PCA before OLS  OLS forward selection\n",
       "0       0.301457        0.350316               0.016858\n",
       "1    4045.473742     3762.520200            5693.673556"
      ]
     },
     "execution_count": 88,
     "metadata": {},
     "output_type": "execute_result"
    }
   ],
   "source": [
    "res2 = {'classical OLS':[R2_OLS, pred_risk_OLS],\n",
    "        'PCA before OLS' : [R2_PCA, pred_risk_PCA],\n",
    "        'OLS forward selection' : [R2_selection, pred_risk_selection]\n",
    "       }\n",
    "data_frame = pd.DataFrame(data = res2)\n",
    "data_frame"
   ]
  },
  {
   "cell_type": "markdown",
   "metadata": {},
   "source": [
    "Actually, the prediction risk and the determination coefficient depend on the split we obtain. However, the forward selection method is quite equivalent to the PCA before OLS method, and is generally better than the classical OLS process."
   ]
  },
  {
   "cell_type": "markdown",
   "metadata": {},
   "source": [
    "### Question 11"
   ]
  },
  {
   "cell_type": "code",
   "execution_count": 89,
   "metadata": {},
   "outputs": [
    {
     "name": "stdout",
     "output_type": "stream",
     "text": [
      "The train sample is split in 4 folds : \n",
      "\n",
      "The size of sample  1 is :  88\n",
      "The size of sample  2 is :  88\n",
      "The size of sample  3 is :  88\n",
      "The size of sample  4 is :  89\n"
     ]
    }
   ],
   "source": [
    "n = len(X_train)\n",
    "\n",
    "#creates a shuffled list of integer from 0 to n\n",
    "liste = np.array(X_train.index)\n",
    "random.shuffle(liste)\n",
    "\n",
    "\n",
    "number_folds = 4\n",
    "print(\"The train sample is split in\", number_folds, \"folds : \")\n",
    "print()\n",
    "\n",
    "div = n // number_folds\n",
    "\n",
    "sample = []\n",
    "for j in range(number_folds):\n",
    "    if (j==3):\n",
    "        l = liste[j*div:]\n",
    "        sample.append(l)\n",
    "        print(\"The size of sample \",j+1, \"is : \", len(l))\n",
    "    else : \n",
    "        l = liste[j*div : (j+1)*div]\n",
    "        sample.append(l)\n",
    "        print(\"The size of sample \",j+1, \"is : \", len(l))\n",
    "        \n",
    "X = []\n",
    "Y = []\n",
    "#creates the 4 folds respectively of X_train and y_train\n",
    "for k in range(number_folds):\n",
    "    X.append(X_train.loc[sample[k]])\n",
    "    Y.append(y_train[sample[k]])"
   ]
  },
  {
   "cell_type": "markdown",
   "metadata": {},
   "source": [
    "### Question 12 : Ridge Regression Method and Cross validation"
   ]
  },
  {
   "cell_type": "code",
   "execution_count": 90,
   "metadata": {},
   "outputs": [],
   "source": [
    "#regularization parameter takes the values from 10e-5 to 10e4\n",
    "reg_param = [10**j for j in range(-5,4)]\n",
    "\n",
    "#creates a list of risks associated to each value of the regularization parameter\n",
    "risk= np.zeros(len(reg_param))\n",
    "\n",
    "\n",
    "for k in range(number_folds):\n",
    "    tmp= [j for j in range(number_folds)]\n",
    "    tmp.remove(k) #creates the list of folds that are different from k\n",
    "    \n",
    "    X_k = X[k] #fold in order to test the model\n",
    "    Y_k = Y[k]\n",
    "\n",
    "    X_model = pd.concat(X[i] for i in tmp) #concatenates the 3 folds left in order to compute the model for X and Y\n",
    "    Y_model = pd.concat(Y[i] for i in tmp) \n",
    "    \n",
    "    for i in range(len(reg_param)):\n",
    "        reg = Ridge(reg_param[i]).fit(X_model, Y_model) #linear regression using Ridge method\n",
    "        y_predict = reg.predict(X_k)\n",
    "        n = len(y_predict)\n",
    "        risk [i] += np.sum((y_predict - Y_k)**2) /(n * number_folds) #computes the mean of the risk\n",
    "        "
   ]
  },
  {
   "cell_type": "markdown",
   "metadata": {},
   "source": [
    "### Plot estimated risk curve"
   ]
  },
  {
   "cell_type": "code",
   "execution_count": 91,
   "metadata": {},
   "outputs": [
    {
     "data": {
      "image/png": "[encoded data removed]",
      "text/plain": [
       "<Figure size 432x288 with 1 Axes>"
      ]
     },
     "metadata": {
      "needs_background": "light"
     },
     "output_type": "display_data"
    }
   ],
   "source": [
    "plt.plot(reg_param, risk)\n",
    "plt.xscale(\"log\")\n",
    "plt.xlabel(\"Regularization parameter\")\n",
    "plt.ylabel(\"Prediction risk\")\n",
    "plt.title(\"Estimated risk curve\")\n",
    "plt.show()"
   ]
  },
  {
   "cell_type": "markdown",
   "metadata": {},
   "source": [
    "### Optimal regularization parameter"
   ]
  },
  {
   "cell_type": "code",
   "execution_count": 92,
   "metadata": {},
   "outputs": [
    {
     "name": "stdout",
     "output_type": "stream",
     "text": [
      "The optimal regularization parameter is:  100\n",
      "The corresponding minimum risk value is:  3581.0059922719493\n"
     ]
    }
   ],
   "source": [
    "#Find the minimum risk, associated to the optimal regularization parameter\n",
    "min_risk = np.min(risk)\n",
    "\n",
    "index_optim = None\n",
    "for index in range(len(risk)):\n",
    "    if (risk[index] == min_risk):\n",
    "        index_optim = index\n",
    "\n",
    "reg_param_optim = reg_param[index_optim]\n",
    "\n",
    "print(\"The optimal regularization parameter is: \", reg_param_optim)\n",
    "print(\"The corresponding minimum risk value is: \", min_risk)"
   ]
  },
  {
   "cell_type": "markdown",
   "metadata": {},
   "source": [
    "### Question 13 : Lasso Regularization Parameter"
   ]
  },
  {
   "cell_type": "code",
   "execution_count": 96,
   "metadata": {},
   "outputs": [],
   "source": [
    "reg_param_lasso = [] #Compute the mean of the regularization parameters chosen by the lasso method\n",
    "\n",
    "for k in range(number_folds):\n",
    "    tmp= [j for j in range(number_folds)]\n",
    "    tmp.remove(k)\n",
    "    X_k = X[k]\n",
    "    Y_k = Y[k]\n",
    "\n",
    "    X_model = pd.concat(X[i] for i in tmp)\n",
    "    Y_model = pd.concat(Y[i] for i in tmp)\n",
    "\n",
    "    lasso_reg = LassoCV().fit(X_model, Y_model) #computes the model using Lasso method\n",
    "    reg_param_lasso.append(lasso_reg.alpha_)"
   ]
  },
  {
   "cell_type": "code",
   "execution_count": 97,
   "metadata": {},
   "outputs": [
    {
     "name": "stdout",
     "output_type": "stream",
     "text": [
      "Regularization parameters chose using the lasso method : \n"
     ]
    },
    {
     "data": {
      "text/html": [
       "<div>\n",
       "<style scoped>\n",
       "    .dataframe tbody tr th:only-of-type {\n",
       "        vertical-align: middle;\n",
       "    }\n",
       "\n",
       "    .dataframe tbody tr th {\n",
       "        vertical-align: top;\n",
       "    }\n",
       "\n",
       "    .dataframe thead th {\n",
       "        text-align: right;\n",
       "    }\n",
       "</style>\n",
       "<table border=\"1\" class=\"dataframe\">\n",
       "  <thead>\n",
       "    <tr style=\"text-align: right;\">\n",
       "      <th></th>\n",
       "      <th>1rst split</th>\n",
       "      <th>2nd split</th>\n",
       "      <th>3rd split</th>\n",
       "      <th>4th split</th>\n",
       "    </tr>\n",
       "  </thead>\n",
       "  <tbody>\n",
       "    <tr>\n",
       "      <td>0</td>\n",
       "      <td>4.496771</td>\n",
       "      <td>5.103254</td>\n",
       "      <td>7.829319</td>\n",
       "      <td>4.731065</td>\n",
       "    </tr>\n",
       "  </tbody>\n",
       "</table>\n",
       "</div>"
      ],
      "text/plain": [
       "   1rst split  2nd split  3rd split  4th split\n",
       "0    4.496771   5.103254   7.829319   4.731065"
      ]
     },
     "execution_count": 97,
     "metadata": {},
     "output_type": "execute_result"
    }
   ],
   "source": [
    "print(\"Regularization parameters chose using the lasso method : \")\n",
    "res3 = {'1rst split': [reg_param_lasso[0]],\n",
    "        '2nd split' : [reg_param_lasso[1]],\n",
    "        '3rd split' : [reg_param_lasso[2]],\n",
    "        '4th split' : [reg_param_lasso[3]]\n",
    "       }\n",
    "data_frame = pd.DataFrame(data = res3)\n",
    "data_frame"
   ]
  },
  {
   "cell_type": "code",
   "execution_count": 98,
   "metadata": {},
   "outputs": [
    {
     "name": "stdout",
     "output_type": "stream",
     "text": [
      "The mean of the regularization parameters chose with the lasso method is :  5.540102102672902\n"
     ]
    }
   ],
   "source": [
    "print(\"The mean of the regularization parameters chose with the lasso method is : \", np.mean(reg_param_lasso))"
   ]
  },
  {
   "cell_type": "markdown",
   "metadata": {},
   "source": [
    "### Associate Prediction Risk"
   ]
  },
  {
   "cell_type": "code",
   "execution_count": 99,
   "metadata": {},
   "outputs": [
    {
     "name": "stdout",
     "output_type": "stream",
     "text": [
      "The associate prediction risk is :  3229.6144307692357\n"
     ]
    }
   ],
   "source": [
    "y_pred_lasso = lasso_reg.predict(X_test)\n",
    "risk_lasso = np.sum((y_pred_lasso - y_test)**2) /(len(y_pred_lasso))\n",
    "print(\"The associate prediction risk is : \", risk_lasso)"
   ]
  },
  {
   "cell_type": "markdown",
   "metadata": {},
   "source": [
    "### Question 14\n",
    "\n",
    "### Variables selected by the Lasso are the one which have the coefficients of the parameter vector $\\theta$ non null."
   ]
  },
  {
   "cell_type": "code",
   "execution_count": 100,
   "metadata": {},
   "outputs": [
    {
     "name": "stdout",
     "output_type": "stream",
     "text": [
      "The variables selected are :  [5, 8, 13, 15, 58, 98, 117, 123, 131, 135, 141, 167, 172, 174, 208, 209]\n",
      "The number of variables selected by the Lasso method is :  16\n"
     ]
    }
   ],
   "source": [
    "coeff_lasso = lasso_reg.coef_ #estimated coefficients for the linear regression using Lasso\n",
    "\n",
    "selected_variables_lasso = []\n",
    "for k in range(len(coeff_lasso)):\n",
    "    if (coeff_lasso[k] !=0): #variables selected by Lasso are the non null ones\n",
    "        selected_variables_lasso.append(k)\n",
    "        \n",
    "print(\"The variables selected are : \", selected_variables_lasso)\n",
    "print(\"The number of variables selected by the Lasso method is : \", len(selected_variables_lasso))\n",
    "    "
   ]
  },
  {
   "cell_type": "code",
   "execution_count": 102,
   "metadata": {},
   "outputs": [],
   "source": [
    "p = len(selected_variables_lasso)\n",
    "N = len(coeff_lasso)\n",
    "\n",
    "selected_variables_lasso = [i for i in range(N) if (coeff_lasso[i] != 0)]\n",
    "\n",
    "#creation of a new tables containing only the variables selected by Lasso\n",
    "X_selection_lasso = X_train[selected_variables_lasso]\n",
    "\n",
    "\n",
    "OLS_lasso = LinearRegression().fit(X_selection_lasso, y_train) #linear regression on the selection variables\n"
   ]
  },
  {
   "cell_type": "markdown",
   "metadata": {},
   "source": [
    "### Associate risk and Determination Coefficient R²"
   ]
  },
  {
   "cell_type": "code",
   "execution_count": 105,
   "metadata": {},
   "outputs": [
    {
     "name": "stdout",
     "output_type": "stream",
     "text": [
      "Prediction risk for Lasso :  3555.731504830189\n",
      "Determination coefficient R² for Lasso :  0.3860225018578509\n"
     ]
    }
   ],
   "source": [
    "y_pred_lasso_OLS = OLS_lasso.predict(X_test[selected_variables_lasso])\n",
    "risk_lasso_OLS = np.sum((y_pred_lasso_OLS - y_test)**2) /(len(y_pred_lasso_OLS))\n",
    "print(\"Prediction risk for Lasso : \", risk_lasso_OLS)\n",
    "\n",
    "print(\"Determination coefficient R² for Lasso : \", \n",
    "      OLS_lasso.score(X_test[selected_variables_lasso], y_test))"
   ]
  },
  {
   "cell_type": "markdown",
   "metadata": {},
   "source": [
    "### Question 15"
   ]
  },
  {
   "cell_type": "code",
   "execution_count": null,
   "metadata": {},
   "outputs": [],
   "source": []
  }
 ],
 "metadata": {
  "kernelspec": {
   "display_name": "Python 3",
   "language": "python",
   "name": "python3"
  },
  "language_info": {
   "codemirror_mode": {
    "name": "ipython",
    "version": 3
   },
   "file_extension": ".py",
   "mimetype": "text/x-python",
   "name": "python",
   "nbconvert_exporter": "python",
   "pygments_lexer": "ipython3",
   "version": "3.7.3"
  }
 },
 "nbformat": 4,
 "nbformat_minor": 2
}
